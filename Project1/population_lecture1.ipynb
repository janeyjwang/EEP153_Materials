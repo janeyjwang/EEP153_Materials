{
 "cells": [
  {
   "cell_type": "markdown",
   "metadata": {},
   "source": [
    "## Population Lecture I\n",
    "\n"
   ]
  },
  {
   "cell_type": "markdown",
   "metadata": {},
   "source": [
    "### Introduction\n",
    "\n"
   ]
  },
  {
   "cell_type": "markdown",
   "metadata": {},
   "source": [
    "Today we&rsquo;ll introduce some key &ldquo;stylized facts&rdquo; about human\n",
    "population and its growth.  None of these are &ldquo;causal&rdquo; statements,\n",
    "just observations about relationships.\n",
    "\n",
    "-   **Fact I:** Population growth is fundamentally exponential, but the\n",
    "    rate of growth has fallen over time.\n",
    "-   **Fact II:** Population growth rates are generally higher in places\n",
    "    where people are poorer.\n",
    "-   **Fact III:** Variation in growth rates across countries is\n",
    "    accounted for more by variation in fertility than by mortality.\n",
    "\n"
   ]
  },
  {
   "cell_type": "markdown",
   "metadata": {},
   "source": [
    "### Getting Data\n",
    "\n"
   ]
  },
  {
   "cell_type": "markdown",
   "metadata": {
    "slideshow": {
     "slide_type": "slide"
    }
   },
   "source": [
    "#### The World Development Indicators & `wbdata`\n",
    "\n"
   ]
  },
  {
   "cell_type": "markdown",
   "metadata": {},
   "source": [
    "The World Bank maintains a large set of &ldquo;World Development Indicators&rdquo; (WDI),\n",
    "including information on population.\n",
    "\n",
    "-   API for WDI is available at [https://datahelpdesk.worldbank.org/knowledgebase/articles/889392-about-the-indicators-api-documentation](https://datahelpdesk.worldbank.org/knowledgebase/articles/889392-about-the-indicators-api-documentation)\n",
    "\n",
    "-   A `python` module that uses the API is `wbdata`, written by Oliver Sherouse.\n",
    "\n",
    "-   Available at [http://github.com/OliverSherouse/wbdata](http://github.com/OliverSherouse/wbdata).\n",
    "\n",
    "-   Documented at [https://wbdata.readthedocs.io](https://wbdata.readthedocs.io).\n",
    "\n"
   ]
  },
  {
   "cell_type": "markdown",
   "metadata": {},
   "source": [
    "#### Getting Population Data Using wbdata\n",
    "\n"
   ]
  },
  {
   "cell_type": "markdown",
   "metadata": {
    "slideshow": {
     "slide_type": "slide"
    }
   },
   "source": [
    "##### Goals\n",
    "\n"
   ]
  },
  {
   "cell_type": "markdown",
   "metadata": {},
   "source": [
    "We want to devise ways to visualize the following:\n",
    "\n",
    "-   Global population growth from 1960 to the present;\n",
    "-   Population growth rates versus GDP per capita;\n",
    "-   Age-sex population pyramids.\n",
    "\n"
   ]
  },
  {
   "cell_type": "markdown",
   "metadata": {
    "slideshow": {
     "slide_type": "slide"
    }
   },
   "source": [
    "##### Methods (using wbdata)\n",
    "\n"
   ]
  },
  {
   "cell_type": "markdown",
   "metadata": {},
   "source": [
    "We walk through the process of getting data from the WDI into a\n",
    "`pandas` DataFrame.\n",
    "\n",
    "The `wbdata` module has several key functions we&rsquo;ll want to use:\n",
    "\n",
    "-   **`search_countries()`:** Returns code for different countries or\n",
    "    regions.\n",
    "-   **`get_source()`:** Gives list of different data sources that can\n",
    "    be accessed using the module; returns a numeric key;\n",
    "-   **`get_indicator()`:** Given a source, this returns a list of\n",
    "    available variables (indicators).\n",
    "-   **`get_dataframe()`:** Given a source and a list of indicators,\n",
    "    this returns a dataframe populated with the requested data\n",
    "    for whatever\n",
    "\n",
    "Begin by importing the module:\n",
    "\n"
   ]
  },
  {
   "cell_type": "code",
   "execution_count": 1,
   "metadata": {},
   "outputs": [],
   "source": [
    "## If import fails with \"ModuleNotFoundError\"\n",
    "## uncomment below & try again\n",
    "# %pip install wbdata\n",
    "\n",
    "import wbdata"
   ]
  },
  {
   "cell_type": "markdown",
   "metadata": {
    "slideshow": {
     "slide_type": "slide"
    }
   },
   "source": [
    "###### `wbdata.search_countries()`\n",
    "\n"
   ]
  },
  {
   "cell_type": "markdown",
   "metadata": {},
   "source": [
    "What countries and regions are available?  Looking up the country\n",
    "  codes, or searching for particular strings:\n",
    "\n"
   ]
  },
  {
   "cell_type": "code",
   "execution_count": 1,
   "metadata": {},
   "outputs": [
    {
     "data": {
      "text/plain": [
       "id    name\n",
       "----  --------------------------------------------------------------------------------\n",
       "ABW   Aruba\n",
       "AFE   Africa Eastern and Southern\n",
       "AFG   Afghanistan\n",
       "AFR   Africa\n",
       "AFW   Africa Western and Central\n",
       "AGO   Angola\n",
       "ALB   Albania\n",
       "AND   Andorra\n",
       "ARB   Arab World\n",
       "ARE   United Arab Emirates\n",
       "ARG   Argentina\n",
       "ARM   Armenia\n",
       "ASM   American Samoa\n",
       "ATG   Antigua and Barbuda\n",
       "AUS   Australia\n",
       "AUT   Austria\n",
       "AZE   Azerbaijan\n",
       "BDI   Burundi\n",
       "BEA   East Asia & Pacific (IBRD-only countries)\n",
       "BEC   Europe & Central Asia (IBRD-only countries)\n",
       "BEL   Belgium\n",
       "BEN   Benin\n",
       "BFA   Burkina Faso\n",
       "BGD   Bangladesh\n",
       "BGR   Bulgaria\n",
       "BHI   IBRD countries classified as high income\n",
       "BHR   Bahrain\n",
       "BHS   Bahamas, The\n",
       "BIH   Bosnia and Herzegovina\n",
       "BLA   Latin America & the Caribbean (IBRD-only countries)\n",
       "BLR   Belarus\n",
       "BLZ   Belize\n",
       "BMN   Middle East & North Africa (IBRD-only countries)\n",
       "BMU   Bermuda\n",
       "BOL   Bolivia\n",
       "BRA   Brazil\n",
       "BRB   Barbados\n",
       "BRN   Brunei Darussalam\n",
       "BSS   Sub-Saharan Africa (IBRD-only countries)\n",
       "BTN   Bhutan\n",
       "BWA   Botswana\n",
       "CAA   Sub-Saharan Africa (IFC classification)\n",
       "CAF   Central African Republic\n",
       "CAN   Canada\n",
       "CEA   East Asia and the Pacific (IFC classification)\n",
       "CEB   Central Europe and the Baltics\n",
       "CEU   Europe and Central Asia (IFC classification)\n",
       "CHE   Switzerland\n",
       "CHI   Channel Islands\n",
       "CHL   Chile\n",
       "CHN   China\n",
       "CIV   Cote d'Ivoire\n",
       "CLA   Latin America and the Caribbean (IFC classification)\n",
       "CME   Middle East and North Africa (IFC classification)\n",
       "CMR   Cameroon\n",
       "COD   Congo, Dem. Rep.\n",
       "COG   Congo, Rep.\n",
       "COL   Colombia\n",
       "COM   Comoros\n",
       "CPV   Cabo Verde\n",
       "CRI   Costa Rica\n",
       "CSA   South Asia (IFC classification)\n",
       "CSS   Caribbean small states\n",
       "CUB   Cuba\n",
       "CUW   Curacao\n",
       "CYM   Cayman Islands\n",
       "CYP   Cyprus\n",
       "CZE   Czechia\n",
       "DEA   East Asia & Pacific (IDA-eligible countries)\n",
       "DEC   Europe & Central Asia (IDA-eligible countries)\n",
       "DEU   Germany\n",
       "DJI   Djibouti\n",
       "DLA   Latin America & the Caribbean (IDA-eligible countries)\n",
       "DMA   Dominica\n",
       "DMN   Middle East & North Africa (IDA-eligible countries)\n",
       "DNK   Denmark\n",
       "DNS   IDA countries in Sub-Saharan Africa not classified as fragile situations\n",
       "DOM   Dominican Republic\n",
       "DSA   South Asia (IDA-eligible countries)\n",
       "DSF   IDA countries in Sub-Saharan Africa classified as fragile situations\n",
       "DSS   Sub-Saharan Africa (IDA-eligible countries)\n",
       "DZA   Algeria\n",
       "EAP   East Asia & Pacific (excluding high income)\n",
       "EAR   Early-demographic dividend\n",
       "EAS   East Asia & Pacific\n",
       "ECA   Europe & Central Asia (excluding high income)\n",
       "ECS   Europe & Central Asia\n",
       "ECU   Ecuador\n",
       "EGY   Egypt, Arab Rep.\n",
       "EMU   Euro area\n",
       "ERI   Eritrea\n",
       "ESP   Spain\n",
       "EST   Estonia\n",
       "ETH   Ethiopia\n",
       "EUU   European Union\n",
       "FCS   Fragile and conflict affected situations\n",
       "FIN   Finland\n",
       "FJI   Fiji\n",
       "FRA   France\n",
       "FRO   Faroe Islands\n",
       "FSM   Micronesia, Fed. Sts.\n",
       "FXS   IDA countries classified as fragile situations, excluding Sub-Saharan Africa\n",
       "GAB   Gabon\n",
       "GBR   United Kingdom\n",
       "GEO   Georgia\n",
       "GHA   Ghana\n",
       "GIB   Gibraltar\n",
       "GIN   Guinea\n",
       "GMB   Gambia, The\n",
       "GNB   Guinea-Bissau\n",
       "GNQ   Equatorial Guinea\n",
       "GRC   Greece\n",
       "GRD   Grenada\n",
       "GRL   Greenland\n",
       "GTM   Guatemala\n",
       "GUM   Guam\n",
       "GUY   Guyana\n",
       "HIC   High income\n",
       "HKG   Hong Kong SAR, China\n",
       "HND   Honduras\n",
       "HPC   Heavily indebted poor countries (HIPC)\n",
       "HRV   Croatia\n",
       "HTI   Haiti\n",
       "HUN   Hungary\n",
       "IBB   IBRD, including blend\n",
       "IBD   IBRD only\n",
       "IBT   IDA & IBRD total\n",
       "IDA   IDA total\n",
       "IDB   IDA blend\n",
       "IDN   Indonesia\n",
       "IDX   IDA only\n",
       "IMN   Isle of Man\n",
       "IND   India\n",
       "INX   Not classified\n",
       "IRL   Ireland\n",
       "IRN   Iran, Islamic Rep.\n",
       "IRQ   Iraq\n",
       "ISL   Iceland\n",
       "ISR   Israel\n",
       "ITA   Italy\n",
       "JAM   Jamaica\n",
       "JOR   Jordan\n",
       "JPN   Japan\n",
       "KAZ   Kazakhstan\n",
       "KEN   Kenya\n",
       "KGZ   Kyrgyz Republic\n",
       "KHM   Cambodia\n",
       "KIR   Kiribati\n",
       "KNA   St. Kitts and Nevis\n",
       "KOR   Korea, Rep.\n",
       "KWT   Kuwait\n",
       "LAC   Latin America & Caribbean (excluding high income)\n",
       "LAO   Lao PDR\n",
       "LBN   Lebanon\n",
       "LBR   Liberia\n",
       "LBY   Libya\n",
       "LCA   St. Lucia\n",
       "LCN   Latin America & Caribbean\n",
       "LDC   Least developed countries: UN classification\n",
       "LIC   Low income\n",
       "LIE   Liechtenstein\n",
       "LKA   Sri Lanka\n",
       "LMC   Lower middle income\n",
       "LMY   Low & middle income\n",
       "LSO   Lesotho\n",
       "LTE   Late-demographic dividend\n",
       "LTU   Lithuania\n",
       "LUX   Luxembourg\n",
       "LVA   Latvia\n",
       "MAC   Macao SAR, China\n",
       "MAF   St. Martin (French part)\n",
       "MAR   Morocco\n",
       "MCO   Monaco\n",
       "MDA   Moldova\n",
       "MDE   Middle East (developing only)\n",
       "MDG   Madagascar\n",
       "MDV   Maldives\n",
       "MEA   Middle East & North Africa\n",
       "MEX   Mexico\n",
       "MHL   Marshall Islands\n",
       "MIC   Middle income\n",
       "MKD   North Macedonia\n",
       "MLI   Mali\n",
       "MLT   Malta\n",
       "MMR   Myanmar\n",
       "MNA   Middle East & North Africa (excluding high income)\n",
       "MNE   Montenegro\n",
       "MNG   Mongolia\n",
       "MNP   Northern Mariana Islands\n",
       "MOZ   Mozambique\n",
       "MRT   Mauritania\n",
       "MUS   Mauritius\n",
       "MWI   Malawi\n",
       "MYS   Malaysia\n",
       "NAC   North America\n",
       "NAF   North Africa\n",
       "NAM   Namibia\n",
       "NCL   New Caledonia\n",
       "NER   Niger\n",
       "NGA   Nigeria\n",
       "NIC   Nicaragua\n",
       "NLD   Netherlands\n",
       "NOR   Norway\n",
       "NPL   Nepal\n",
       "NRS   Non-resource rich Sub-Saharan Africa countries\n",
       "NRU   Nauru\n",
       "NXS   IDA countries not classified as fragile situations, excluding Sub-Saharan Africa\n",
       "NZL   New Zealand\n",
       "OED   OECD members\n",
       "OMN   Oman\n",
       "OSS   Other small states\n",
       "PAK   Pakistan\n",
       "PAN   Panama\n",
       "PER   Peru\n",
       "PHL   Philippines\n",
       "PLW   Palau\n",
       "PNG   Papua New Guinea\n",
       "POL   Poland\n",
       "PRE   Pre-demographic dividend\n",
       "PRI   Puerto Rico\n",
       "PRK   Korea, Dem. People's Rep.\n",
       "PRT   Portugal\n",
       "PRY   Paraguay\n",
       "PSE   West Bank and Gaza\n",
       "PSS   Pacific island small states\n",
       "PST   Post-demographic dividend\n",
       "PYF   French Polynesia\n",
       "QAT   Qatar\n",
       "ROU   Romania\n",
       "RRS   Resource rich Sub-Saharan Africa countries\n",
       "RUS   Russian Federation\n",
       "RWA   Rwanda\n",
       "SAS   South Asia\n",
       "SAU   Saudi Arabia\n",
       "SDN   Sudan\n",
       "SEN   Senegal\n",
       "SGP   Singapore\n",
       "SLB   Solomon Islands\n",
       "SLE   Sierra Leone\n",
       "SLV   El Salvador\n",
       "SMR   San Marino\n",
       "SOM   Somalia\n",
       "SRB   Serbia\n",
       "SSA   Sub-Saharan Africa (excluding high income)\n",
       "SSD   South Sudan\n",
       "SSF   Sub-Saharan Africa\n",
       "SST   Small states\n",
       "STP   Sao Tome and Principe\n",
       "SUR   Suriname\n",
       "SVK   Slovak Republic\n",
       "SVN   Slovenia\n",
       "SWE   Sweden\n",
       "SWZ   Eswatini\n",
       "SXM   Sint Maarten (Dutch part)\n",
       "SXZ   Sub-Saharan Africa excluding South Africa\n",
       "SYC   Seychelles\n",
       "SYR   Syrian Arab Republic\n",
       "TCA   Turks and Caicos Islands\n",
       "TCD   Chad\n",
       "TEA   East Asia & Pacific (IDA & IBRD countries)\n",
       "TEC   Europe & Central Asia (IDA & IBRD countries)\n",
       "TGO   Togo\n",
       "THA   Thailand\n",
       "TJK   Tajikistan\n",
       "TKM   Turkmenistan\n",
       "TLA   Latin America & the Caribbean (IDA & IBRD countries)\n",
       "TLS   Timor-Leste\n",
       "TMN   Middle East & North Africa (IDA & IBRD countries)\n",
       "TON   Tonga\n",
       "TSA   South Asia (IDA & IBRD)\n",
       "TSS   Sub-Saharan Africa (IDA & IBRD countries)\n",
       "TTO   Trinidad and Tobago\n",
       "TUN   Tunisia\n",
       "TUR   Turkiye\n",
       "TUV   Tuvalu\n",
       "TZA   Tanzania\n",
       "UGA   Uganda\n",
       "UKR   Ukraine\n",
       "UMC   Upper middle income\n",
       "URY   Uruguay\n",
       "USA   United States\n",
       "UZB   Uzbekistan\n",
       "VCT   St. Vincent and the Grenadines\n",
       "VEN   Venezuela, RB\n",
       "VGB   British Virgin Islands\n",
       "VIR   Virgin Islands (U.S.)\n",
       "VNM   Viet Nam\n",
       "VUT   Vanuatu\n",
       "WLD   World\n",
       "WSM   Samoa\n",
       "XKX   Kosovo\n",
       "XZN   Sub-Saharan Africa excluding South Africa and Nigeria\n",
       "YEM   Yemen, Rep.\n",
       "ZAF   South Africa\n",
       "ZMB   Zambia\n",
       "ZWE   Zimbabwe"
      ]
     },
     "execution_count": 1,
     "metadata": {},
     "output_type": "execute_result"
    }
   ],
   "source": [
    "import wbdata\n",
    "\n",
    "# Return list of all country/region codes:\n",
    "wbdata.get_country()\n",
    "\n",
    "# Return list matching a query term:\n",
    "#wbdata.search_countries(\"World\")\n",
    "\n",
    "## Try your own search!\n",
    "# wbdata.search_countries(\"\")"
   ]
  },
  {
   "cell_type": "markdown",
   "metadata": {
    "slideshow": {
     "slide_type": "slide"
    }
   },
   "source": [
    "###### `wbdata.get_source()`\n",
    "\n"
   ]
  },
  {
   "cell_type": "markdown",
   "metadata": {},
   "source": [
    "To see possible datasets we can access via the API, use `get_source()`\n",
    "\n"
   ]
  },
  {
   "cell_type": "code",
   "execution_count": 1,
   "metadata": {},
   "outputs": [],
   "source": [
    "wbdata.get_source()"
   ]
  },
  {
   "cell_type": "markdown",
   "metadata": {
    "slideshow": {
     "slide_type": "slide"
    }
   },
   "source": [
    "###### `wbdata.get_indicator()`\n",
    "\n"
   ]
  },
  {
   "cell_type": "markdown",
   "metadata": {},
   "source": [
    "&ldquo;Population estimates and projections&rdquo; looks promising.\n",
    " See what indicators/variables are available?\n",
    "\n"
   ]
  },
  {
   "cell_type": "code",
   "execution_count": 1,
   "metadata": {},
   "outputs": [],
   "source": [
    "SOURCE = 40 # \"Population estimates and projections\n",
    "\n",
    "indicators = wbdata.get_indicator(source=SOURCE)\n",
    "indicators"
   ]
  },
  {
   "cell_type": "markdown",
   "metadata": {},
   "source": [
    "##### Getting Population Over Time\n",
    "\n"
   ]
  },
  {
   "cell_type": "markdown",
   "metadata": {},
   "source": [
    "Let&rsquo;s get data on the global population and see how it has changed over\n",
    " time. The variable `SP.POP.TOTL` seems like a reasonable place to\n",
    " start.\n",
    "\n",
    "We want to get a `pandas.DataFrame` of total population:\n",
    "\n"
   ]
  },
  {
   "cell_type": "code",
   "execution_count": 2,
   "metadata": {},
   "outputs": [],
   "source": [
    "# Give variable for clarity\n",
    "variable_labels = {\"SP.POP.TOTL\":\"World Population\"}\n",
    "\n",
    "world = wbdata.get_dataframe(variable_labels, country=\"WLD\")\n",
    "\n",
    "# Date index is of type string; change to integers\n",
    "#world.index = world.index.astype(int)\n",
    "\n",
    "# Print a few years' data\n",
    "#world.head()"
   ]
  },
  {
   "cell_type": "code",
   "execution_count": 4,
   "metadata": {},
   "outputs": [
    {
     "data": {
      "text/plain": [
       "Index(['2022', '2021', '2020', '2019', '2018', '2017', '2016', '2015', '2014',\n",
       "       '2013', '2012', '2011', '2010', '2009', '2008', '2007', '2006', '2005',\n",
       "       '2004', '2003', '2002', '2001', '2000', '1999', '1998', '1997', '1996',\n",
       "       '1995', '1994', '1993', '1992', '1991', '1990', '1989', '1988', '1987',\n",
       "       '1986', '1985', '1984', '1983', '1982', '1981', '1980', '1979', '1978',\n",
       "       '1977', '1976', '1975', '1974', '1973', '1972', '1971', '1970', '1969',\n",
       "       '1968', '1967', '1966', '1965', '1964', '1963', '1962', '1961', '1960'],\n",
       "      dtype='object', name='date')"
      ]
     },
     "execution_count": 4,
     "metadata": {},
     "output_type": "execute_result"
    }
   ],
   "source": [
    "world.index"
   ]
  },
  {
   "cell_type": "markdown",
   "metadata": {},
   "source": [
    "### Plotting Data\n",
    "\n"
   ]
  },
  {
   "cell_type": "markdown",
   "metadata": {},
   "source": [
    "#### Plotting data from pandas.DataFrame\n",
    "\n"
   ]
  },
  {
   "cell_type": "markdown",
   "metadata": {},
   "source": [
    "Let&rsquo;s make a time-series plot of global population.  We&rsquo;ll use the\n",
    " `plot.ly` `cufflinks` module, which integrates with `pandas`.  Here&rsquo;s two lines to set up the plotting environment:\n",
    "\n"
   ]
  },
  {
   "cell_type": "code",
   "execution_count": 1,
   "metadata": {},
   "outputs": [],
   "source": [
    "#%pip install cufflinks # IF NECESSARY\n",
    "import cufflinks as cf\n",
    "cf.go_offline()"
   ]
  },
  {
   "cell_type": "markdown",
   "metadata": {},
   "source": [
    "#### Plotting Global Population Over time\n",
    "\n"
   ]
  },
  {
   "cell_type": "markdown",
   "metadata": {},
   "source": [
    "With that done, after we have a DataFrame making a plot is just one\n",
    " line of code:\n",
    "\n"
   ]
  },
  {
   "cell_type": "code",
   "execution_count": 1,
   "metadata": {},
   "outputs": [],
   "source": [
    "# Useful arguments to pass include xTitle, yTitle, Title\n",
    "world.iplot(title=\"Fact I: Growth Rates Falling over Time\",xTitle='Year',yTitle='Population')"
   ]
  },
  {
   "cell_type": "markdown",
   "metadata": {},
   "source": [
    "#### Plotting Different Countries&rsquo; Population Growth Rates\n",
    "\n"
   ]
  },
  {
   "cell_type": "markdown",
   "metadata": {},
   "source": [
    "Globally, population growth has been basically linear over the last 60\n",
    " years.\n",
    "\n",
    "-   Increases by 1 billion about every 12 years.\n",
    "-   Implies *rate* of growth falling over time.\n",
    "\n",
    "How do population growth rates vary by country?\n",
    "\n"
   ]
  },
  {
   "cell_type": "code",
   "execution_count": 1,
   "metadata": {},
   "outputs": [],
   "source": [
    "import numpy as np\n",
    "\n",
    "variable_labels = {\"SP.POP.TOTL\":\"Population\"}\n",
    "\n",
    "# Three letter codes come from wbdata.get_country()\n",
    "countries = {\"WLD\":\"World\",\n",
    "             \"LIC\":\"Low income\",\n",
    "             \"LMC\":\"Low-medium income\",\n",
    "             \"UMC\":\"Upper-medium income\",\n",
    "             \"HIC\":\"High income\",\n",
    "            }\n",
    "\n",
    "df = wbdata.get_dataframe(variable_labels, country = countries).squeeze()\n",
    "\n",
    "df = df.unstack('country')\n",
    "# Date index is of type string; change to integers\n",
    "df.index = df.index.astype(int)\n",
    "\n",
    "# Differences (over time) in logs give us growth rates\n",
    "np.log(df).diff().iplot(title=\"Fact II: Poorer places have higher growth rates\",\n",
    "                        yTitle=\"Growth Rate\",xTitle='Year')"
   ]
  },
  {
   "cell_type": "markdown",
   "metadata": {},
   "source": [
    "#### Population Growth vs Per capita GDP\n",
    "\n"
   ]
  },
  {
   "cell_type": "markdown",
   "metadata": {},
   "source": [
    "Our second stylized fact was that there&rsquo;s an inverse association between\n",
    " income and population growth.  We&rsquo;ll investigate this fact here,\n",
    " constructing a scatter plot relating population growth rates to (log) GDP per capita.\n",
    "\n"
   ]
  },
  {
   "cell_type": "code",
   "execution_count": 1,
   "metadata": {},
   "outputs": [],
   "source": [
    "import numpy as np\n",
    "# wbdata.search_indicators(\"GDP per capita\")\n",
    "\n",
    "indicators = {\"NY.GDP.PCAP.CD\":\"GDP per capita\",\n",
    "              \"SP.DYN.TFRT.IN\":\"Total Fertility Rate\",\n",
    "              \"SP.POP.GROW\":\"Population Growth Rate\",\n",
    "              \"SP.DYN.AMRT.MA\":\"Male Mortality\",\n",
    "              \"SP.DYN.AMRT.FE\":\"Female Mortality\",\n",
    "              \"SP.POP.1564.FE.ZS\":\"% Adult Female\",\n",
    "              \"SP.POP.TOTL.FE.ZS\":\"% Female\"}\n",
    "\n",
    "data = wbdata.get_dataframe(indicators)\n",
    "\n",
    "# Make years ints instead of strings\n",
    "data.reset_index(inplace=True)\n",
    "data['date'] = data['date'].astype(int)\n",
    "data.set_index(['country','date'],inplace=True)\n",
    "\n",
    "df = data.query(\"date==2022\") # Latest year missing some data\n",
    "\n",
    "# All dates now the same; not a useful index\n",
    "df.index = df.index.droplevel('date')\n",
    "\n",
    "df['Log GDP per capita'] = np.log(df['GDP per capita'])\n",
    "\n",
    "df.iplot(kind='scatter', mode='markers', symbol='circle-dot',\n",
    "         x=\"Log GDP per capita\",y=\"Population Growth Rate\",\n",
    "         text=df.reset_index('country')['country'].values.tolist(),\n",
    "         xTitle=\"Log GDP per capita\",yTitle=\"Population Growth Rate\",\n",
    "         title=\"Fact II: Population growth is lower in higher-income countries\")"
   ]
  },
  {
   "cell_type": "markdown",
   "metadata": {},
   "source": [
    "#### Decomposing Population Growth\n",
    "\n"
   ]
  },
  {
   "cell_type": "markdown",
   "metadata": {},
   "source": [
    "Consider the human population at a particular time $t$, and let the\n",
    " size of the population be given by $N_t$ at time $t$.  Also, let\n",
    " $\\phi_t$ be the *share* of the population at time $t$ that are women\n",
    " of child-bearing age (e.g., 15&#x2013;49).\n",
    "\n",
    "Now, as a matter of accounting, population in the next period $t+1$ will be given by\n",
    "$$\n",
    "    N_{t+1} = (1-\\mbox{mortality rate})N_t + \\mbox{TFR}\\cdot\\phi_t N_t.\n",
    " $$\n",
    "\n",
    "Thus, we can think of population growth as depending on mortality, fertility, and the share of the population that can bear children.\n",
    "\n",
    "We&rsquo;ve seen that population growth is falling over time.  Is the fall due to changes in mortality, fertility, or $\\phi_t$?\n",
    "\n"
   ]
  },
  {
   "cell_type": "markdown",
   "metadata": {},
   "source": [
    "#### Mortality Over Time\n",
    "\n"
   ]
  },
  {
   "cell_type": "markdown",
   "metadata": {},
   "source": [
    "Can mortality changes account for declining population?  Look at\n",
    " deaths per 10,000 people.\n",
    "\n"
   ]
  },
  {
   "cell_type": "code",
   "execution_count": 1,
   "metadata": {},
   "outputs": [],
   "source": [
    "world = data.query(\"country=='World'\")\n",
    "\n",
    "# Drop country index for World data\n",
    "world.index = world.index.droplevel('country')\n",
    "\n",
    "world[[\"Male Mortality\",\"Female Mortality\"]].iplot(title=\"Deaths per 10,000\")"
   ]
  },
  {
   "cell_type": "markdown",
   "metadata": {},
   "source": [
    "#### Adult female share of population over time\n",
    "\n"
   ]
  },
  {
   "cell_type": "markdown",
   "metadata": {},
   "source": [
    "Decreases in population growth could also be due to a decreasing share of adult women, perhaps due to gender selection at birth.  How does this share ($\\phi_t$) vary over time?\n",
    "\n"
   ]
  },
  {
   "cell_type": "code",
   "execution_count": 1,
   "metadata": {},
   "outputs": [],
   "source": [
    "# % Adult Female is % of females who are adult.\n",
    "# To make a share of total population take product\n",
    "world[\"% Adult Female\"] = world[\"% Adult Female\"]*world[\"% Female\"]/100\n",
    "\n",
    "world[\"% Adult Female\"].iplot(title=\"% of Adult Females in World Population\")"
   ]
  },
  {
   "cell_type": "markdown",
   "metadata": {},
   "source": [
    "#### Fertility over time\n",
    "\n"
   ]
  },
  {
   "cell_type": "markdown",
   "metadata": {},
   "source": [
    "Finally, decreases in population growth could be due to reduced fertility.  How does global fertility vary over time?\n",
    "\n"
   ]
  },
  {
   "cell_type": "code",
   "execution_count": 1,
   "metadata": {},
   "outputs": [],
   "source": [
    "world[\"Total Fertility Rate\"].iplot()"
   ]
  },
  {
   "cell_type": "markdown",
   "metadata": {},
   "source": [
    "#### Relation between income and fertility\n",
    "\n"
   ]
  },
  {
   "cell_type": "code",
   "execution_count": 1,
   "metadata": {},
   "outputs": [],
   "source": [
    "df.iplot(kind='scatter', mode='markers', symbol='circle-dot',\n",
    "         x=\"Log GDP per capita\",y=\"Total Fertility Rate\",\n",
    "         text=df.reset_index('country')['country'].values.tolist(),\n",
    "         xTitle=\"Log GDP per capita\",yTitle=\"Total Fertility Rate\",\n",
    "         title=\"Fact II: Women in Poorer Countries Have Higher Fertility\")"
   ]
  },
  {
   "cell_type": "markdown",
   "metadata": {},
   "source": [
    "### Understanding Age-Sex Composition\n",
    "\n"
   ]
  },
  {
   "cell_type": "markdown",
   "metadata": {},
   "source": [
    "To relate the total fertility rate (TFR) of a country to population\n",
    " growth, we need to know some other things about the country:\n",
    "\n",
    "1.  Women of child-bearing age, as a proportion of population\n",
    "2.  Mortality rates (which will vary with age)\n",
    "3.  Rates of net migration\n",
    "\n",
    "We won&rsquo;t have much to say about migration yet, but the number of\n",
    "women of child-bearing age and rates of mortality can both be\n",
    "helpfully visualized by constructing *population pyramids* that\n",
    "report information on the age and sex composition of a population at\n",
    "a point in time.\n",
    "\n"
   ]
  },
  {
   "cell_type": "markdown",
   "metadata": {},
   "source": [
    "#### Building a population pyramid\n",
    "\n"
   ]
  },
  {
   "cell_type": "markdown",
   "metadata": {},
   "source": [
    "The next code builds a list of the age-sex counts we want\n",
    " (e.g., how many males are there between the ages of 10-14?).\n",
    "\n"
   ]
  },
  {
   "cell_type": "code",
   "execution_count": 1,
   "metadata": {},
   "outputs": [],
   "source": [
    "# Data from WDI on age-sex comes in the forms of variables\n",
    "# which take the form \"SP.POP.LLHH.MA\" for males\n",
    "# and \"SP.POP.LLHH.FE\" for females, where LL is the *low* end of\n",
    "# age range, like \"05\" for 5-yo, and HH is the *high* end.\n",
    "\n",
    "# We construct a list of age-ranges.\n",
    "\n",
    "# Start with an empty list of age-rages\n",
    "age_ranges = []\n",
    "\n",
    "# Ranges top out at 80, and go in five year increments\n",
    "for i in range(0,80,5):\n",
    "    age_ranges.append(f\"{i:02d}\"+f\"{i+4:02d}\")\n",
    "\n",
    "age_ranges.append(\"80UP\")\n",
    "\n",
    "print(age_ranges)"
   ]
  },
  {
   "cell_type": "markdown",
   "metadata": {},
   "source": [
    "Next we construct a dictionary of indicators, with labels, that we\n",
    " want to grab.\n",
    "\n"
   ]
  },
  {
   "cell_type": "code",
   "execution_count": 1,
   "metadata": {},
   "outputs": [],
   "source": [
    "male_variables = {\"SP.POP.\"+age_range+\".MA\":\"Males \"+age_range for age_range in age_ranges}\n",
    "female_variables = {\"SP.POP.\"+age_range+\".FE\":\"Females \"+age_range for age_range in age_ranges}\n",
    "\n",
    "variables = male_variables\n",
    "variables.update(female_variables)\n",
    "\n",
    "print(variables)"
   ]
  },
  {
   "cell_type": "markdown",
   "metadata": {},
   "source": [
    "Get the data!\n",
    "\n"
   ]
  },
  {
   "cell_type": "code",
   "execution_count": 1,
   "metadata": {},
   "outputs": [],
   "source": [
    "# WLD is the World; substitute your own code or list of codes.\n",
    "# Remember you can search for the appropriate codes using\n",
    "# wbdata.search_countries(\"\")\n",
    "\n",
    "df = wbdata.get_dataframe(variables,country=\"WLD\")\n",
    "print(df.query(\"date=='2022'\").sum(axis=0))"
   ]
  },
  {
   "cell_type": "markdown",
   "metadata": {},
   "source": [
    "#### Plotting Population Pyramid\n",
    "\n"
   ]
  },
  {
   "cell_type": "markdown",
   "metadata": {},
   "source": [
    "Now we put together some code for the population pyramid.  The structure\n",
    " of the DataFrames is more complicated than it was above, so using the simple `cufflinks` library won&rsquo;t work here (or at least I don&rsquo;t see quite how to do it).   We use a more general `plot.ly` library instead.\n",
    "\n"
   ]
  },
  {
   "cell_type": "code",
   "execution_count": 1,
   "metadata": {},
   "outputs": [],
   "source": [
    "import plotly.offline as py\n",
    "import plotly.graph_objs as go\n",
    "import pandas as pd\n",
    "import numpy as np\n",
    "\n",
    "py.init_notebook_mode(connected=True)\n",
    "\n",
    "layout = go.Layout(barmode='overlay',\n",
    "                   yaxis=go.layout.YAxis(range=[0, 90], title='Age'),\n",
    "                   xaxis=go.layout.XAxis(title='Number'))\n",
    "\n",
    "year = 2020\n",
    "\n",
    "bins = [go.Bar(x = df.loc[str(year),:].filter(regex=\"Male\").values,\n",
    "               y = [int(s[:2])+1 for s in age_ranges],\n",
    "               orientation='h',\n",
    "               name='Men',\n",
    "               marker=dict(color='purple'),\n",
    "               hoverinfo='skip'\n",
    "               ),\n",
    "\n",
    "        go.Bar(x = -df.loc[str(year),:].filter(regex=\"Female\").values,\n",
    "               y=[int(s[:2])+1 for s in age_ranges],\n",
    "               orientation='h',\n",
    "               name='Women',\n",
    "               marker=dict(color='pink'),\n",
    "               hoverinfo='skip',\n",
    "               )\n",
    "        ]\n",
    "py.iplot(dict(data=bins, layout=layout))"
   ]
  },
  {
   "cell_type": "markdown",
   "metadata": {},
   "source": [
    "#### Changes in Pyramid Over Time\n",
    "\n"
   ]
  },
  {
   "cell_type": "markdown",
   "metadata": {},
   "source": [
    "Let&rsquo;s try a more ambitious visualization, showing how the shape of the population pyramid has changed decade by decade.\n",
    "\n"
   ]
  },
  {
   "cell_type": "code",
   "execution_count": 1,
   "metadata": {},
   "outputs": [],
   "source": [
    "# Count down by increments of 20 years\n",
    "years = range(2020,1960,-20)\n",
    "\n",
    "# This makes a list of graphs, year by year\n",
    "bins = [go.Bar(x = df.loc[str(year),:].filter(regex=\"Male\").values,\n",
    "               y = [int(s[:2])+1 for s in age_ranges],\n",
    "               orientation='h',\n",
    "               name='Men {:d}'.format(year),\n",
    "               hoverinfo='skip',\n",
    "               opacity=0.5\n",
    "              )\n",
    "        for year in years]\n",
    "\n",
    "bins += [go.Bar(x = -df.loc[str(year),:].filter(regex=\"Female\").values,\n",
    "                y=[int(s[:2])+1 for s in age_ranges],\n",
    "                orientation='h',\n",
    "                name='Women {:d}'.format(year),\n",
    "                hoverinfo='skip',\n",
    "                opacity=0.5\n",
    "               )\n",
    "         for year in years]\n",
    "\n",
    "py.iplot(dict(data=bins, layout=layout))"
   ]
  }
 ],
 "metadata": {
  "kernelspec": {
   "display_name": "Python 3 (ipykernel)",
   "language": "python",
   "name": "python3"
  },
  "language_info": {
   "codemirror_mode": {
    "name": "ipython",
    "version": 3
   },
   "file_extension": ".py",
   "mimetype": "text/x-python",
   "name": "python",
   "nbconvert_exporter": "python",
   "pygments_lexer": "ipython3",
   "version": "3.11.5"
  },
  "org": null
 },
 "nbformat": 4,
 "nbformat_minor": 4
}

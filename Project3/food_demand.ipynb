{
  "cells": [
    {
      "cell_type": "markdown",
      "metadata": {},
      "source": [
        "## Preface\n\n"
      ]
    },
    {
      "cell_type": "code",
      "execution_count": 1,
      "metadata": {},
      "outputs": [],
      "source": [
        "!pip install -r requirements.txt\n\nimport plotly.offline as py\nimport plotly.graph_objs as go\n\npy.init_notebook_mode(connected=True)\n\n# Uncomment for use in Jupyter Notebook\n%matplotlib widget\n\n# If widget doesn't work, try this (for static images)\n#%matplotlib inline"
      ]
    },
    {
      "cell_type": "markdown",
      "metadata": {},
      "source": [
        "## Consumer Demand for Food\n\n"
      ]
    },
    {
      "cell_type": "markdown",
      "metadata": {},
      "source": [
        "-   Minimum cost model can be regarded as *prescriptive* or *descriptive*.  In the former case it&rsquo;s a way of saying what people *should* eat.  In the latter it&rsquo;s a way of saying what people *do* eat.\n\n"
      ]
    },
    {
      "cell_type": "markdown",
      "metadata": {},
      "source": [
        "### Questions\n\n"
      ]
    },
    {
      "cell_type": "markdown",
      "metadata": {},
      "source": [
        "-   How do actual diets compare with minimum cost diets?\n-   How can changes in food prices affect demand for different kinds  of food?\n-   How can changes in  income affect demand for different kinds of food?\n-   Is there a set of prices and incomes that ensure people will choose to consume a nutritious diet?\n\n"
      ]
    },
    {
      "cell_type": "markdown",
      "metadata": {},
      "source": [
        "### Consumer&rsquo;s problem\n\n"
      ]
    },
    {
      "cell_type": "markdown",
      "metadata": {},
      "source": [
        "The basic consumer&rsquo;s problem considers the problem of allocating a budget $x$ to purchase consumption goods (including but not limited to different kinds of food).  The consumer is thought to try to choose goods to maximize their *utility*.  Utility in turn is a function that maps *consumption bundles* into the  real line&#x2014;one can think of the level of utility as corresponding to the consumer&rsquo;s happiness or satisfaction.\n\nThe problem is expressed mathematically as\n   $$\n      \\max_{c\\in\\Re^n_{++}} U(c) \\qquad\\text{such that $p'c\\leq x$,}\n   $$\nwhere $U:\\Re^n_{++}\\rightarrow\\Re$ is generally assumed to be an increasing, concave, and continuously differentiable function of consumption; $c$ is the consumption bundle; $p$ is a vector of prices for the various goods in $c$; and $x$ is the consumer&rsquo;s total budget.\n\n"
      ]
    },
    {
      "cell_type": "markdown",
      "metadata": {},
      "source": [
        "#### Cobb-Douglas Example Utility Function\n\n"
      ]
    },
    {
      "cell_type": "markdown",
      "metadata": {},
      "source": [
        "Let&rsquo;s consider a particular utility function which  takes the form\n    $$\n       U(c) = \\sum_{i=1}^n\\alpha_i\\log c_i.\n    $$\nThis logarithmic form is sometimes called a *Cobb-Douglas* utility function, named after a mathematician Charles Cobb and an economist (later Senator) Paul Douglas, who devised the mathematical form as a way of modeling [production](https://en.wikipedia.org/wiki/Cobb%25E2%2580%2593Douglas_production_function).\n\n"
      ]
    },
    {
      "cell_type": "code",
      "execution_count": 1,
      "metadata": {},
      "outputs": [],
      "source": [
        "import consumerdemands as demands\n\n# Cobb-Douglas utility is a special case of a more general class\ndef cobb_douglas_utility(alpha):\n    \"\"\"\n    Define Cobb-Douglas utility function.\n    \"\"\"\n    n = len(alpha)\n    U = lambda c: demands.utility(c,alpha,[1]*n,[0]*n)\n\n    return U\n\n# Two good case:\nalpha=[0.3,0.7] # Preference parameters\n\nU = cobb_douglas_utility(alpha)"
      ]
    },
    {
      "cell_type": "markdown",
      "metadata": {},
      "source": [
        "Now construct a 3-d plot of the utility function for us to visualize:\n\n"
      ]
    },
    {
      "cell_type": "code",
      "execution_count": 1,
      "metadata": {},
      "outputs": [],
      "source": [
        "import plotly.offline as py\nimport plotly.graph_objs as go\nimport numpy as np\n\n\n# Commodity space\nc1 = np.linspace(0.1, 10, 30)\nc2 = np.linspace(0.1, 10, 30)\n\nUtils = np.array([[U([c_1,c_2]) for c_1 in c1] for c_2 in c2])\n\nutils = [\n    go.Surface(\n        x=c1,\n        y=c2,\n        z=Utils,\n        contours=go.surface.Contours(\n            z=go.surface.contours.Z(\n              show=True,\n              usecolormap=True,\n              highlightcolor=\"#42f462\",\n              project=dict(z=True)\n            )\n        )\n    )\n]\n\nlayout = go.Layout(\n    title='Cobb-Douglas Utility',\n    scene={'xaxis':{'title':'$c_1$'},\n           'yaxis':{'title':'$c_2$'},\n           'zaxis':{'title':'Utils'}})\n\nfig = go.Figure(data=utils, layout=layout)\n\npy.iplot(fig, filename='latex')"
      ]
    },
    {
      "cell_type": "markdown",
      "metadata": {},
      "source": [
        "##### Questions\n\n"
      ]
    },
    {
      "cell_type": "markdown",
      "metadata": {},
      "source": [
        "Some questions covering basic consumer demand that should be familiar.  If not, consult a textbook on intermediate microeconomics (such as [Perloff&rsquo;s textbook with calculus](https://www.amazon.com/Microeconomics-Applications-Calculus-Pearson-Economics/dp/0134167384)).  Or for a concise high-level treatment see the excellent (and free!) [Introduction by Arne Hallam](http://www2.econ.iastate.edu/faculty/hallam/Microeconomics/Intro-Micro.pdf).\n\n1.  Economists would call the $(c_1,c_2)$ plane the &ldquo;commodity space&rdquo;.  Explain.\n2.  The contour lines in the figure are called &ldquo;Indifference curves&rdquo;.  Why is this sensible?\n3.  Economists call the partial derivatives of the utility function with respect to $c_1$ and $c_2$ *marginal utilities*.  Give a graphical interpretation of the marginal utility of $c_1$ (holding     $c_2$ fixed).\n4.  Pick out a point on an indifference curve.  What is its slope in the $(c_1,c_2)$ plane?\n5.  Economists call (minus) the slope in the previous question the consumer&rsquo;s *marginal rate of substitution*.  Explain.\n\n"
      ]
    },
    {
      "cell_type": "markdown",
      "metadata": {},
      "source": [
        "##### The Budget Constraint\n\n"
      ]
    },
    {
      "cell_type": "markdown",
      "metadata": {},
      "source": [
        "Now, how about  the budget constraint?\n\n"
      ]
    },
    {
      "cell_type": "code",
      "execution_count": 1,
      "metadata": {},
      "outputs": [],
      "source": [
        "import plotly.offline as py\nimport plotly.graph_objs as go\nimport numpy as np\nimport pandas as pd\nimport consumerdemands as demands\n\npy.init_notebook_mode(connected=True)\n\n########### Play with these parameters\nparms = {'alpha':[0.3,0.7], # Preference parameters\n         'beta':[1,1], # Curvature parameters\n         'phi':0}\n\n####################\n\nU = lambda c: demands.utility(c,**parms)\n\n# Prices of goods\np = (1,2)\n\n# Budget\nx=2\n\nc1 = np.linspace(0.1, x/p[0]*1.2, 30)\nc2 = np.linspace(0.1, x/p[1]*1.2, 30)\n\nUtils = np.array([[U([c_1,c_2]) for c_1 in c1] for c_2 in c2])\n\nUstar =  demands.marshallian.indirect_utility(x,p,parms)\n\nxs = [0,x/p[0],0,x/p[0]]\nys = [x/p[1],0,x/p[1],0]\nzs = [Utils.min(),Utils.min(),Utils.max()*1.1,Utils.max()*1.1]\n\nbudget= [{\n    'type': 'mesh3d',\n    'x': xs,\n    'y': ys,\n    'z': zs,\n    'delaunayaxis':'x',\n    'color': 'black',\n    'opacity': 1.0,\n}]\n\nutils = [\n    go.Surface(\n        x=c1,\n        y=c2,\n        z=Utils,\n        contours=go.surface.Contours(\n            z=go.surface.contours.Z(\n              show=True,\n              usecolormap=True,\n              highlightcolor=\"#42f462\",\n              project=dict(z=True)\n            )\n        )\n    )\n]\n\ndata = budget + utils\n\n\nlayout = go.Layout(\n    title='Cobb-Douglas Utility',\n    scene={'xaxis':{'title':'$c_1$'},\n           'yaxis':{'title':'$c_2$'},\n           'zaxis':{'title':'Utils'}})\n\nfig = go.Figure(data=data, layout=layout)\n\npy.iplot(fig, filename='latex')"
      ]
    },
    {
      "cell_type": "markdown",
      "metadata": {},
      "source": [
        "The budget constraint here is the black line/form.\n\n"
      ]
    },
    {
      "cell_type": "markdown",
      "metadata": {},
      "source": [
        "###### Questions\n\n"
      ]
    },
    {
      "cell_type": "markdown",
      "metadata": {},
      "source": [
        "1.  How is the budget constraint determined by prices $p$ and budget $x$?\n2.  The figure above shows a tangency between the budget line and a particular indifference curve.  Show that this point &ldquo;solves&rdquo; the consumer&rsquo;s problem, in the sense that it maximizes utility subject to the consumer&rsquo;s budget constraint.\n\n"
      ]
    },
    {
      "cell_type": "markdown",
      "metadata": {},
      "source": [
        "##### Demands\n\n"
      ]
    },
    {
      "cell_type": "markdown",
      "metadata": {},
      "source": [
        "We&rsquo;ve seen how one can find demands given a utility function and a budget constraint.  As one varies the price of a particular good (given a fixed budget and holding other prices fixed) one traces out the *demand curve* for the good.\n\nThe following code does this for the same utility function we explored above.  Note that for obscure historical reasons ([Alfred](https://en.wikipedia.org/wiki/Alfred_Marshall) & [Mary Paley Marshall](https://en.wikipedia.org/wiki/Mary_Paley_Marshall) are to blame) it&rsquo;s conventional to plot the independent variable &ldquo;price&rdquo; on the vertical axis, instead of the horizontal.\n\n"
      ]
    },
    {
      "cell_type": "code",
      "execution_count": 1,
      "metadata": {},
      "outputs": [],
      "source": [
        "from consumerdemands import marshallian\nimport numpy as np\nimport matplotlib.pyplot as plt\n\n# Demand for c_1 as a function of own price\nD1 = lambda p1,p2=1,x=1: marshallian.demands(x,(p1,p2),parms)[0]\n\nP = np.linspace(.5,5,100)\n\nplt.plot([D1(p1) for p1 in P],P)\nplt.xlabel('$c_1$')\nplt.ylabel('$p_1$')\n\nplt.show()"
      ]
    },
    {
      "cell_type": "markdown",
      "metadata": {},
      "source": [
        "###### Questions\n\n"
      ]
    },
    {
      "cell_type": "markdown",
      "metadata": {},
      "source": [
        "1.  How does the demand curve for $c_1$ change if the price of the other good changes?\n2.  How does the demand curve for $c_1$ change if the budget $x$ changes?\n\n"
      ]
    },
    {
      "cell_type": "markdown",
      "metadata": {},
      "source": [
        "##### Engel Curves\n\n"
      ]
    },
    {
      "cell_type": "markdown",
      "metadata": {},
      "source": [
        "The &ldquo;demand curve&rdquo; traces out how demand for a good changes as its price changes.  If prices remain fixed and the consumer&rsquo;s *budget* increases this describes what we call an [Engel](https://en.wikipedia.org/wiki/Ernst_Engel) curve.\n\n"
      ]
    },
    {
      "cell_type": "code",
      "execution_count": 1,
      "metadata": {},
      "outputs": [],
      "source": [
        "from consumerdemands import marshallian\nimport numpy as np\nimport matplotlib.pyplot as plt\n\n# Demand for c_1 as a function of own price\nE1 = lambda x,p1=1,p2=1: marshallian.demands(x,(p1,p2),parms)\n\nX = np.linspace(.1,10,100)\n\nplt.plot(X,[E1(x)[0] for x in X],X,[E1(x)[1] for x in X])\nplt.xlabel('$x$')\nplt.ylabel('Consumptions')\nplt.legend(('$c_1$','$c_2$'))\nplt.title('Engel Curves')\n\nplt.show()"
      ]
    },
    {
      "cell_type": "markdown",
      "metadata": {},
      "source": [
        "###### Questions\n\n"
      ]
    },
    {
      "cell_type": "markdown",
      "metadata": {},
      "source": [
        "1.  How do the Engel curves depend on prices?\n2.  In the Cobb-Douglas case the parameters $\\alpha_i$ are sometimes called &ldquo;budget shares.&rdquo;  Why does this makes sense?\n\n"
      ]
    },
    {
      "cell_type": "markdown",
      "metadata": {},
      "source": [
        "#### Constant Frisch Elasticity (CFE) Example Utility Function\n\n"
      ]
    },
    {
      "cell_type": "markdown",
      "metadata": {},
      "source": [
        "The Cobb-Douglas utility function is a special case of a more general class of utility functions.  These allow different curvatures in the utility derived from each good, unlike the Cobb-Douglas case.  They take the form\n    $$\n       U(c) =\\sum_{i=1}^n\\alpha_i\\frac{\\beta_i}{\\beta_i-1}(c_i^{1-1/\\beta_i} -1).\n    $$\nThus, where the Cobb-Douglas case had an $n$-vector of parameters $\\alpha$, the CFE case has two $n$-vectors, &alpha; and &beta;.\n\n"
      ]
    },
    {
      "cell_type": "code",
      "execution_count": 1,
      "metadata": {},
      "outputs": [],
      "source": [
        "import consumerdemands as demands\n\n########### Play with these parameters\nparms = {'alpha':[0.3,0.7], # Preference parameters\n         'beta':[5,1], # Curvature parameters\n         'phi':0}\n\n####################\n\nU = lambda c: demands.utility(c,**parms)"
      ]
    },
    {
      "cell_type": "markdown",
      "metadata": {},
      "source": [
        "Now construct a 3-d plot of the utility function for us to visualize:\n\n"
      ]
    },
    {
      "cell_type": "code",
      "execution_count": 1,
      "metadata": {},
      "outputs": [],
      "source": [
        "from mpl_toolkits import mplot3d\nimport numpy as np\nimport matplotlib.pyplot as plt\n\nfig = plt.figure()\nax = plt.axes(projection='3d')\n\n# Commodity space\nc1 = np.linspace(0.1, 10, 30)\nc2 = np.linspace(0.1, 10, 30)\n\nC1,C2 = np.meshgrid(c1,c2)\n\nUtils = np.array([[U([c_1,c_2]) for c_1 in c1] for c_2 in c2])\n\nax.plot_surface(C1, C2, Utils, rstride=1, cstride=1,\n                cmap='viridis', edgecolor='none',alpha=0.8)\n\nax.set_xlabel('$c_1$')\nax.set_ylabel('$c_2$')\nax.set_zlabel('Utility')\n\n# Plot indifference curves\nax.contour(C1,C2,Utils,offset=Utils.min())\nax.contour(C1,C2,Utils, colors=\"k\", linestyles=\"solid\")\n\nplt.show()"
      ]
    },
    {
      "cell_type": "markdown",
      "metadata": {},
      "source": [
        "##### Demands\n\n"
      ]
    },
    {
      "cell_type": "markdown",
      "metadata": {},
      "source": [
        "We&rsquo;ve seen how one can find demands given a utility function and a budget constraint.  As one varies the price of a particular good (given a fixed budget and holding other prices fixed) one traces out the *demand curve* for the good.\n\nThe following code does this for the same utility function we explored above.  Note that for obscure historical reasons it&rsquo;s conventional to plot the independent variable &ldquo;price&rdquo; on the vertical axis, instead of the  horizontal.\n\n"
      ]
    },
    {
      "cell_type": "code",
      "execution_count": 1,
      "metadata": {},
      "outputs": [],
      "source": [
        "from consumerdemands import marshallian\nimport numpy as np\nimport matplotlib.pyplot as plt\n\n# Demand for c_1 as a function of own price\nD1 = lambda p1,p2=1,x=1: marshallian.demands(x,(p1,p2),parms)[0]\n\nP = np.linspace(.5,5,100)\n\nfig,ax = plt.subplots()\n\n#### Play with  p2 & x below!\nax.plot([D1(p1,p2=1,x=1) for p1 in P],P)\n\nax.set_xlabel('$c_1$')\nax.set_ylabel('$p_1$')\n\nplt.show()"
      ]
    },
    {
      "cell_type": "markdown",
      "metadata": {},
      "source": [
        "###### Questions\n\n"
      ]
    },
    {
      "cell_type": "markdown",
      "metadata": {},
      "source": [
        "1.  How does the demand curve for $c_1$ change if the price of  the other good changes?\n2.  How does the demand curve for $c_1$ change if the budget $x$ changes?\n\n"
      ]
    },
    {
      "cell_type": "markdown",
      "metadata": {},
      "source": [
        "##### Engel Curves\n\n"
      ]
    },
    {
      "cell_type": "markdown",
      "metadata": {},
      "source": [
        "The &ldquo;demand curve&rdquo; traces out how demand for a good changes as its price changes.  If prices remain fixed and the consumer&rsquo;s *budget* increases this describes what we call an [Engel](https://en.wikipedia.org/wiki/Ernst_Engel) curve.\n\n"
      ]
    },
    {
      "cell_type": "code",
      "execution_count": 1,
      "metadata": {},
      "outputs": [],
      "source": [
        "from consumerdemands import marshallian\nimport numpy as np\nimport matplotlib.pyplot as plt\n\n# Demand for c_1 as a function of own price\nE1 = lambda x,p1=1,p2=1: marshallian.demands(x,(p1,p2),parms)\n\nX = np.linspace(.1,10,100)\n\nfig,ax = plt.subplots()\n\n#### Play with prices p1 & p2 below!\nEcurves = list(zip(*[E1(x,p1=1,p2=1) for x in X]))\n\nax.plot(X,Ecurves[0],X,Ecurves[1])\n\nax.set_xlabel('$x$')\nax.set_ylabel('Consumptions')\nax.legend(('$c_1$','$c_2$'))\nax.set_title('Engel Curves')\n\nplt.show()"
      ]
    },
    {
      "cell_type": "markdown",
      "metadata": {},
      "source": [
        "###### Questions\n\n"
      ]
    },
    {
      "cell_type": "markdown",
      "metadata": {},
      "source": [
        "1.  How do the Engel curves depend on prices?\n\n"
      ]
    }
  ],
  "metadata": {
    "org": null,
    "kernelspec": {
      "display_name": "Python 3",
      "language": "python",
      "name": "python3"
    },
    "language_info": {
      "codemirror_mode": {
        "name": "ipython",
        "version": 3
      },
      "file_extension": ".py",
      "mimetype": "text/x-python",
      "name": "python",
      "nbconvert_exporter": "python",
      "pygments_lexer": "ipython3",
      "version": "3.5.2"
    }
  },
  "nbformat": 4,
  "nbformat_minor": 0
}

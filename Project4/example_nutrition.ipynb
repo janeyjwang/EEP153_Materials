{
 "cells": [
  {
   "cell_type": "markdown",
   "metadata": {},
   "source": [
    "## Nutrient Demands\n",
    "\n"
   ]
  },
  {
   "cell_type": "markdown",
   "metadata": {},
   "source": [
    "### Introduction\n",
    "\n"
   ]
  },
  {
   "cell_type": "markdown",
   "metadata": {},
   "source": [
    "In our last project we used data to estimate systems of food demand\n",
    "using different datasets.  An output from that project was as set of\n",
    "`cfe.Result` objects; these bundle together both data and the results\n",
    "from the demand system estimation, and can be used for prediction as\n",
    "well.  \n",
    "\n",
    "Here we&rsquo;ll explore some of the uses of the `cfe.Result` class, using\n",
    "an instance created using data from the Indian ICRISAT data.\n",
    "\n",
    "If you don&rsquo;t already have the latest version of the `cfe` package\n",
    "installed, grab it, along with some dependencies:\n",
    "\n"
   ]
  },
  {
   "cell_type": "code",
   "execution_count": 1,
   "metadata": {},
   "outputs": [],
   "source": [
    "!pip install CFEDemands --upgrade\n",
    "#!pip install xarray\n",
    "#!pip install dvc\n",
    "#!pip install h5netcdf"
   ]
  },
  {
   "cell_type": "code",
   "execution_count": 1,
   "metadata": {},
   "outputs": [],
   "source": [
    "import pandas as pd\n",
    "import cfe"
   ]
  },
  {
   "cell_type": "markdown",
   "metadata": {},
   "source": [
    "We&rsquo;ll get data from two places.  First, basic data, including a food\n",
    " conversion table and recommended daily intakes table can be found in\n",
    " a google spreadsheet.\n",
    "\n"
   ]
  },
  {
   "cell_type": "code",
   "execution_count": 1,
   "metadata": {},
   "outputs": [],
   "source": [
    "DataURL = 'https://docs.google.com/spreadsheets/d/13Ig5hZif-NSHtgkKRp_cEgKXk0lOsdUB2BAD6O_FnRo'\n",
    "key = DataURL.split('/')[-1]"
   ]
  },
  {
   "cell_type": "markdown",
   "metadata": {},
   "source": [
    "You&rsquo;ll also need to be sure that your credentials are decrypted:\n",
    "\n"
   ]
  },
  {
   "cell_type": "code",
   "execution_count": 1,
   "metadata": {},
   "outputs": [],
   "source": [
    "!gpg --batch --passphrase \"SECRET PASSPHRASE\" -d ../students.json.gpg > ../students.json"
   ]
  },
  {
   "cell_type": "markdown",
   "metadata": {},
   "source": [
    "An instance `r` of `cfe.Result` can be made persistent with\n",
    " `r.to_dataset('my_result.ds')`, which saves the instance &ldquo;on disk&rdquo; in\n",
    " [NetCDF format](https://en.wikipedia.org/wiki/NetCDF), and can be loaded using `cfe.from_dataset`.  We use\n",
    " this method below to load data and demand system estimated for the\n",
    " Indian ICRISAT villages:\n",
    "\n"
   ]
  },
  {
   "cell_type": "code",
   "execution_count": 1,
   "metadata": {},
   "outputs": [],
   "source": [
    "r = cfe.from_dataset('./Indian ICRISAT_small.ds')\n",
    "\n",
    "r"
   ]
  },
  {
   "cell_type": "markdown",
   "metadata": {},
   "source": [
    "Pick prices that were prevailing at some time and place; e.g.,\n",
    "\n"
   ]
  },
  {
   "cell_type": "code",
   "execution_count": 1,
   "metadata": {},
   "outputs": [],
   "source": [
    "# Year 1975, village A\n",
    "t,m = 75,1\n",
    "\n",
    "p = r.prices.sel(t=t,m=m,drop=True)\n",
    "phat = p.to_dataframe('i').dropna()\n",
    "phat"
   ]
  },
  {
   "cell_type": "markdown",
   "metadata": {},
   "source": [
    "So, we have demands for median household at that time and place\n",
    "\n"
   ]
  },
  {
   "cell_type": "code",
   "execution_count": 1,
   "metadata": {},
   "outputs": [],
   "source": [
    "xbar = r.get_predicted_expenditures().sum('i')\n",
    "median_x = xbar.where(xbar>0).sel(t=t,m=m).median('j') # Budget (median household)\n",
    "\n",
    "xhat = r.get_predicted_expenditures().sel(t=t,m=m,drop=True).mean('j')\n",
    "\n",
    "xhatdf = xhat.to_dataframe('i').dropna()\n",
    "\n",
    "qhat = xhatdf.div(phat,axis=1).dropna()\n",
    "\n",
    "qhat"
   ]
  },
  {
   "cell_type": "markdown",
   "metadata": {},
   "source": [
    "Finally, define a function to change a single price in the vector $p$:\n",
    "\n"
   ]
  },
  {
   "cell_type": "code",
   "execution_count": 1,
   "metadata": {},
   "outputs": [],
   "source": [
    "def my_prices(p0,p=p,i='Coconut'):\n",
    "    p = p.copy()\n",
    "    p.loc[i] = p0\n",
    "    return p"
   ]
  },
  {
   "cell_type": "markdown",
   "metadata": {},
   "source": [
    "### Mapping to Nutrients\n",
    "\n"
   ]
  },
  {
   "cell_type": "markdown",
   "metadata": {},
   "source": [
    "We&rsquo;ve seen how to map prices and budgets into vectors of consumption\n",
    " quantities using `cfe.Result.demands`.  Next we want to think about\n",
    " how to map these into bundles of *nutrients*.  The information needed\n",
    " for the mapping comes from a &ldquo;Food Conversion Table&rdquo; (or database,\n",
    " such as the [USDA Nutrition DataBase](https://ndb.nal.usda.gov/ndb/doc/apilist/API-FOOD-REPORTV2.md)).   Here we&rsquo;ve adapted (with\n",
    " thanks to Alessandro Tarozzi of the Universitat Pompeu Fabra) a food\n",
    " conversion table developed by Gopalan et al (1980) to the foods\n",
    " reported in the Indian ICRISAT data:\n",
    "\n"
   ]
  },
  {
   "cell_type": "code",
   "execution_count": 1,
   "metadata": {},
   "outputs": [],
   "source": [
    "import eep153_tools\n",
    "\n",
    "fct = eep153_tools.read_sheets(key,\n",
    "                               json_creds='../students.json',\n",
    "                               sheet='FCT').set_index('i')"
   ]
  },
  {
   "cell_type": "markdown",
   "metadata": {},
   "source": [
    "We need the index of the Food Conversion Table (FCT) to match up with\n",
    " the index of the vector of quantities demanded.   To manage this we\n",
    " make use of the `align` method for `pd.DataFrames`:\n",
    "\n"
   ]
  },
  {
   "cell_type": "code",
   "execution_count": 1,
   "metadata": {},
   "outputs": [],
   "source": [
    "# Create a new FCT and vector of consumption that only share rows in common:\n",
    "fct0,c0 = fct.align(qhat,axis=0,join='inner')\n",
    "print(fct0.index)"
   ]
  },
  {
   "cell_type": "markdown",
   "metadata": {},
   "source": [
    "Now, since rows of `fct0` and `c0` match, we can obtain nutritional\n",
    " outcomes from the inner (or dot, or matrix) product of the transposed\n",
    " `fct0` and `c0`:\n",
    "\n"
   ]
  },
  {
   "cell_type": "code",
   "execution_count": 1,
   "metadata": {},
   "outputs": [],
   "source": [
    "# The @ operator means matrix multiply\n",
    "N = fct0.T@c0\n",
    "\n",
    "# NB: ICRISAT data is *Annual* consumption\n",
    "N"
   ]
  },
  {
   "cell_type": "markdown",
   "metadata": {},
   "source": [
    "Of course, since we can compute the nutritional content of a vector of\n",
    " consumption goods `c0`, we can also use our demand functions to\n",
    " compute nutrition as a *function* of prices and budget.\n",
    "\n"
   ]
  },
  {
   "cell_type": "code",
   "execution_count": 1,
   "metadata": {},
   "outputs": [],
   "source": [
    "def nutrient_demand(x,p):\n",
    "    c = r.demands(x,p)\n",
    "    fct0,c0 = fct.align(c,axis=0,join='inner')\n",
    "    N = fct0.T@c0\n",
    "\n",
    "    N = N.loc[~N.index.duplicated()]\n",
    "    \n",
    "    return N"
   ]
  },
  {
   "cell_type": "markdown",
   "metadata": {},
   "source": [
    "With this `nutrient_demand` function in hand, we can see how nutrient\n",
    " outcomes vary with budget, given prices:\n",
    "\n"
   ]
  },
  {
   "cell_type": "code",
   "execution_count": 1,
   "metadata": {},
   "outputs": [],
   "source": [
    "import numpy as np\n",
    "import matplotlib.pyplot as plt\n",
    "\n",
    "### If you're getting lots of not useful warnings you want to ignore\n",
    "# import warnings\n",
    "# warnings.filterwarnings('ignore',category=UserWarning)\n",
    "####################################################################\n",
    "\n",
    "X = np.linspace(median_x/5,median_x*5,50)\n",
    "\n",
    "UseNutrients = ['Protein','Calories','Iron','Calcium']\n",
    "\n",
    "plt.plot(X,pd.concat({myx:np.log(nutrient_demand(myx,p))[UseNutrients] for myx in X},axis=1).T)\n",
    "plt.legend(UseNutrients)\n",
    "plt.xlabel('log budget')\n",
    "plt.ylabel('log nutrient')"
   ]
  },
  {
   "cell_type": "markdown",
   "metadata": {},
   "source": [
    "Now how does nutrition vary with prices?\n",
    "\n"
   ]
  },
  {
   "cell_type": "code",
   "execution_count": 1,
   "metadata": {},
   "outputs": [],
   "source": [
    "USE_GOOD = 'Jowar/Sorghum'\n",
    "\n",
    "ref_price = r.prices.sel(i=USE_GOOD,t=t,m=m,drop=True)\n",
    "\n",
    "P = np.linspace(ref_price/10,ref_price*10,50)\n",
    "\n",
    "plt.plot(P,pd.DataFrame({p0:np.log(nutrient_demand(median_x,my_prices(p0,i=USE_GOOD)))[UseNutrients] for p0 in P}).T)\n",
    "plt.legend(UseNutrients)\n",
    "plt.xlabel('log price')\n",
    "plt.ylabel('log nutrient')"
   ]
  },
  {
   "cell_type": "markdown",
   "metadata": {},
   "source": [
    "## Nutritional requirements\n",
    "\n"
   ]
  },
  {
   "cell_type": "markdown",
   "metadata": {},
   "source": [
    "Individuals have nutritional requirements established by nutrition\n",
    "scientists.  Here are some standards established by the Indian\n",
    "National Institute of Nutrition:\n",
    "\n"
   ]
  },
  {
   "cell_type": "markdown",
   "metadata": {},
   "source": [
    "### Nutritional needs of individuals\n",
    "\n"
   ]
  },
  {
   "cell_type": "markdown",
   "metadata": {},
   "source": [
    "#### Recommended Daily Allowances: India\n",
    "\n"
   ]
  },
  {
   "cell_type": "markdown",
   "metadata": {},
   "source": [
    "| Sex-Age|Calories|Protein|Fat|Calcium|Iron|Betacarotene|Thiamine|Riboflavin|Niacin|Ascorbic Acid|\n",
    "|---|---|---|---|---|---|---|---|---|---|---|\n",
    "| C 0-0.5||||500|||.2|.3||25|\n",
    "| C 0.5-1|||19|500|5|2800|.3|.4||25|\n",
    "| C 1-3|1060|16.7|27|600|9|3200|.5|.6|8|40|\n",
    "| C 4-6|1350|20.1|25|600|13|3200|.7|.8|11|40|\n",
    "| C 7-9|1690|29.5|30|600|16|4800|.8|1.|13|40|\n",
    "| B 10-12|2190|39.9|35|800|21|4800|1.1|1.3|15|40|\n",
    "| G 10-12|2010|40.4|35|800|27|4800|1.|1.2|13|40|\n",
    "| B 13-15|2750|54.3|45|800|32|4800|1.4|1.6|16|40|\n",
    "| G 13-15|2330|51.9|40|800|27|4800|1.2|1.4|14|40|\n",
    "| B 16-17|3020|61.5|50|800|28|4800|1.5|1.8|17|40|\n",
    "| G 16-17|2440|55.5|35|800|26|4800|1.|1.2|14|40|\n",
    "| M|2730|60|30|600|17|4800|1.4|1.4|18|40|\n",
    "| W|2230|55|25|1200|21|4800|1.1|1.3|14|40|\n",
    "\n"
   ]
  },
  {
   "cell_type": "markdown",
   "metadata": {},
   "source": [
    "### Nutritional Needs of Households\n",
    "\n"
   ]
  },
  {
   "cell_type": "markdown",
   "metadata": {},
   "source": [
    "Our data on demand and nutrients is at the *household* level; we\n",
    "   can&rsquo;t directly compare household level nutrition with individual\n",
    "   level requirements.  What we **can** do is add up minimum individual\n",
    "   requirements, and see whether household total exceed these.  This\n",
    "   isn&rsquo;t a guarantee that all individuals have adequate nutrition\n",
    "   (since the way food is allocated in the household might be quite\n",
    "   unequal, or unrelated to individual requirements), but it is\n",
    "   *necessary* if all individuals are to have adequate nutrition.\n",
    "\n",
    "For the average household in the ICRISAT villages, the number of\n",
    "different kinds of people can be computed by averaging over households:\n",
    "\n"
   ]
  },
  {
   "cell_type": "code",
   "execution_count": 1,
   "metadata": {},
   "outputs": [],
   "source": [
    "# In first round, averaged over households and villages\n",
    "zbar = r.z.sel(t=r.firstround,drop=True).mean(['j','m'])[:-1] # Leave out log HSize"
   ]
  },
  {
   "cell_type": "markdown",
   "metadata": {},
   "source": [
    "Now, the inner/dot/matrix product between `zbar` and the `rda`\n",
    "DataFrame of requirements will give us minimum requirements for the\n",
    "average household:\n",
    "\n"
   ]
  },
  {
   "cell_type": "code",
   "execution_count": 1,
   "metadata": {},
   "outputs": [],
   "source": [
    "rdi = eep153_tools.read_sheets(key,\n",
    "                               json_creds='../students.json',\n",
    "                               sheet='RDI').set_index('k').replace(np.nan,0)\n",
    "\n",
    "# This matrix product gives minimum nutrient requirements for average\n",
    "# household in 1975.\n",
    "hh_rdi = rdi.replace('',0).T@zbar\n",
    "\n",
    "# But this is per *day*, while our ICRISAT food data is per *year*:\n",
    "hh_rdi = hh_rdi*365.25"
   ]
  },
  {
   "cell_type": "markdown",
   "metadata": {},
   "source": [
    "## Nutritional Adequacy of Food Demands\n",
    "\n"
   ]
  },
  {
   "cell_type": "markdown",
   "metadata": {},
   "source": [
    "Since we can trace out demands for nutrients as a function of $(x,p)$,\n",
    "and we&rsquo;ve computed minimum nutritional requirements for the average\n",
    "household, we can *normalize* nutritional intake to check the adequacy\n",
    "of diet.\n",
    "\n"
   ]
  },
  {
   "cell_type": "code",
   "execution_count": 1,
   "metadata": {},
   "outputs": [],
   "source": [
    "def nutrient_adequacy_ratio(x,p):\n",
    "    return nutrient_demand(x,p)/hh_rdi"
   ]
  },
  {
   "cell_type": "markdown",
   "metadata": {},
   "source": [
    "In terms of normalized nutrients, any household with more than one\n",
    "unit of any given nutrient (or zero in logs) will be consuming a\n",
    "minimally adequate level of the nutrient; below this level there&rsquo;s\n",
    "clearly nutritional inadequacy.  For this reason the ratio of\n",
    "actual nutrients to required nutrients is termed the &ldquo;nutrient\n",
    "adequacy ratio,&rdquo; or NAR.\n",
    "\n"
   ]
  },
  {
   "cell_type": "code",
   "execution_count": 1,
   "metadata": {},
   "outputs": [],
   "source": [
    "plt.plot(X,pd.concat({x:np.log(nutrient_adequacy_ratio(x,p))[UseNutrients] for x in X},axis=1).T)\n",
    "plt.legend(UseNutrients)\n",
    "plt.xlabel('log budget')\n",
    "plt.ylabel('log nutrient adequacy ratio')\n",
    "plt.axhline(0)"
   ]
  },
  {
   "cell_type": "markdown",
   "metadata": {},
   "source": [
    "As before, we can also vary relative prices.  Here we trace out\n",
    "nutritional adequacy varying the price of a single good:\n",
    "\n"
   ]
  },
  {
   "cell_type": "code",
   "execution_count": 1,
   "metadata": {},
   "outputs": [],
   "source": [
    "poorer_x = median_x/2\n",
    "\n",
    "plt.plot(pd.concat({p0:np.log(nutrient_adequacy_ratio(poorer_x,my_prices(p0,i=USE_GOOD)))[UseNutrients] for p0 in P},axis=1).T,P)\n",
    "plt.legend(UseNutrients)\n",
    "plt.ylabel('Price')\n",
    "plt.xlabel('log nutrient adequacy ratio')\n",
    "plt.axvline(0)\n",
    "plt.axhline(p.sel(i=USE_GOOD).values)"
   ]
  }
 ],
 "metadata": {
  "kernelspec": {
   "display_name": "Python 3 (ipykernel)",
   "language": "python",
   "name": "python3"
  },
  "language_info": {
   "codemirror_mode": {
    "name": "ipython",
    "version": 3
   },
   "file_extension": ".py",
   "mimetype": "text/x-python",
   "name": "python",
   "nbconvert_exporter": "python",
   "pygments_lexer": "ipython3",
   "version": "3.8.8"
  },
  "org": null
 },
 "nbformat": 4,
 "nbformat_minor": 1
}

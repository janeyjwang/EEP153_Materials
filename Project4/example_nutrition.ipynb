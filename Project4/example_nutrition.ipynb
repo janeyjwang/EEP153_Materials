{
  "cells": [
    {
      "cell_type": "markdown",
      "metadata": {},
      "source": [
        "## Nutrient Demands\n\n"
      ]
    },
    {
      "cell_type": "markdown",
      "metadata": {},
      "source": [
        "### Introduction\n\n"
      ]
    },
    {
      "cell_type": "markdown",
      "metadata": {},
      "source": [
        "In our last project we used data to estimate systems of food demand\nusing different datasets.  An output from that project was as set of\n`cfe.Regression` objects; these bundle together both data and the results\nfrom the demand system estimation, and can be used for prediction as\nwell.\n\nHere we&rsquo;ll explore some of the uses of the `cfe.Regression` class, using\nan instance created previously (as in Project 3).\n\nAfter having estimated a demand system using data from our favorite country, we can imagine different counterfactual scenarios.  What if prices were different?  What if we give a cash transfer to a household?  What if school fees reduce the budget for food?  What are the consequences of any of these for diet & nutrition?\n\nIf you don&rsquo;t already have the latest version of the `CFEDemands` package\ninstalled, grab it, along with some dependencies:\n\n"
      ]
    },
    {
      "cell_type": "code",
      "execution_count": 1,
      "metadata": {},
      "outputs": [],
      "source": [
        "#!pip install -r requirements.txt"
      ]
    },
    {
      "cell_type": "code",
      "execution_count": 1,
      "metadata": {},
      "outputs": [],
      "source": [
        "import pandas as pd\nimport cfe.regression as rgsn"
      ]
    },
    {
      "cell_type": "markdown",
      "metadata": {},
      "source": [
        "### Data\n\n"
      ]
    },
    {
      "cell_type": "markdown",
      "metadata": {},
      "source": [
        "We&rsquo;ll get data from two places.  First, basic data, including a food\n conversion table and recommended daily intakes table can be found in\n a google spreadsheet.\n\nHere are addresses of google sheets for different dataframes for the\ncase of Uganda:\n\n"
      ]
    },
    {
      "cell_type": "code",
      "execution_count": 1,
      "metadata": {},
      "outputs": [],
      "source": [
        "InputFiles = {'Expenditures':('1yVLriVpo7KGUXvR3hq_n53XpXlD5NmLaH1oOMZyV0gQ','Expenditures (2019-20)'),\n              'Prices':('1yVLriVpo7KGUXvR3hq_n53XpXlD5NmLaH1oOMZyV0gQ','Prices'),\n              'HH Characteristics':('1yVLriVpo7KGUXvR3hq_n53XpXlD5NmLaH1oOMZyV0gQ','HH Characteristics'),\n              'FCT':('1yVLriVpo7KGUXvR3hq_n53XpXlD5NmLaH1oOMZyV0gQ','FCT'),\n              'RDI':('1yVLriVpo7KGUXvR3hq_n53XpXlD5NmLaH1oOMZyV0gQ','RDI'),}"
      ]
    },
    {
      "cell_type": "markdown",
      "metadata": {},
      "source": [
        "#### Prices, FCT, RDI\n\n"
      ]
    },
    {
      "cell_type": "code",
      "execution_count": 1,
      "metadata": {},
      "outputs": [],
      "source": [
        "from eep153_tools.sheets import read_sheets\nimport numpy as np\nimport pandas as pd\n\ndef get_clean_sheet(key,sheet=None):\n\n    df = read_sheets(key,sheet=sheet)\n    df.columns = [c.strip() for c in df.columns.tolist()]\n\n    df = df.loc[:,~df.columns.duplicated(keep='first')]\n\n    df = df.drop([col for col in df.columns if col.startswith('Unnamed')], axis=1)\n\n    df = df.loc[~df.index.duplicated(), :]\n\n    return df\n\n# Get prices\np = get_clean_sheet(InputFiles['Prices'][0],\n                    sheet=InputFiles['Prices'][1])\n\nif 'm' not in p.columns:  # Supply \"market\" indicator if missing\n    p['m'] = 1\n\np = p.set_index(['t','m'])\np.columns.name = 'j'\n\np = p.apply(lambda x: pd.to_numeric(x,errors='coerce'))\np = p.replace(0,np.nan)\n\nfct = get_clean_sheet(InputFiles['FCT'][0],\n                    sheet=InputFiles['FCT'][1])\n\nfct = fct.set_index('j')\nfct.columns.name = 'n'\n\nfct = fct.apply(lambda x: pd.to_numeric(x,errors='coerce'))\n\n################## RDI, if available (consider using US) #####################\nrdi = get_clean_sheet(InputFiles['RDI'][0],\n                    sheet=InputFiles['RDI'][1])\nrdi = rdi.set_index('n')\nrdi.columns.name = 'k'"
      ]
    },
    {
      "cell_type": "markdown",
      "metadata": {},
      "source": [
        "#### Pre-estimated Demand Systems\n\n"
      ]
    },
    {
      "cell_type": "markdown",
      "metadata": {},
      "source": [
        "An instance `r` of `cfe.Regression` can be made persistent with\n `r.to_pickle('my_result.pickle')`, which saves the instance &ldquo;on disk&rdquo;, and can be loaded using `cfe.regression.read_pickle`.  We use  this method below to load data and demand system previously estimated for Uganda:\n\n"
      ]
    },
    {
      "cell_type": "code",
      "execution_count": 1,
      "metadata": {},
      "outputs": [],
      "source": [
        "r = rgsn.read_pickle('uganda_2019-20.pickle')  # Assumes you've already set this up e.g., in Project 3"
      ]
    },
    {
      "cell_type": "markdown",
      "metadata": {},
      "source": [
        "#### Reference Prices\n\n"
      ]
    },
    {
      "cell_type": "markdown",
      "metadata": {},
      "source": [
        "Choose reference prices.  Here we&rsquo;ll choose a particular year, and average prices across markets.  If you wanted to focus on particular market you&rsquo;d do this differently.\n\n"
      ]
    },
    {
      "cell_type": "code",
      "execution_count": 1,
      "metadata": {},
      "outputs": [],
      "source": [
        "# Reference prices chosen from a particular time; average across place.\n# These are prices per kilogram:\npbar = p.xs('2019-20',level='t').mean()\npbar = pbar[r.beta.index] # Only use prices for goods we can estimate"
      ]
    },
    {
      "cell_type": "markdown",
      "metadata": {},
      "source": [
        "#### Budgets\n\n"
      ]
    },
    {
      "cell_type": "markdown",
      "metadata": {},
      "source": [
        "Get food budget for all households, then find median budget:\n\n"
      ]
    },
    {
      "cell_type": "code",
      "execution_count": 1,
      "metadata": {},
      "outputs": [],
      "source": [
        "import numpy as np\n\nxhat = r.predicted_expenditures()\n\n# Total food expenditures per household\nxbar = xhat.groupby(['i','t','m']).sum()\n\n# Reference budget\nxref = xbar.quantile(0.5)  # Household at 0.5 quantile is median"
      ]
    },
    {
      "cell_type": "markdown",
      "metadata": {},
      "source": [
        "#### Food Quantities\n\n"
      ]
    },
    {
      "cell_type": "markdown",
      "metadata": {},
      "source": [
        "Get quantities of food by dividing expenditures by prices:\n\n"
      ]
    },
    {
      "cell_type": "code",
      "execution_count": 1,
      "metadata": {},
      "outputs": [],
      "source": [
        "qhat = (xhat.unstack('j')/pbar).dropna(how='all')\n\n# Drop missing columns\nqhat = qhat.loc[:,qhat.count()>0]\n\nqhat"
      ]
    },
    {
      "cell_type": "markdown",
      "metadata": {},
      "source": [
        "Finally, define a function to change a single price in the vector $p$:\n\n"
      ]
    },
    {
      "cell_type": "code",
      "execution_count": 1,
      "metadata": {},
      "outputs": [],
      "source": [
        "def my_prices(p0,p=pbar,j='Millet'):\n    \"\"\"\n    Change price of jth good to p0, holding other prices fixed.\n    \"\"\"\n    p = p.copy()\n    p.loc[j] = p0\n    return p"
      ]
    },
    {
      "cell_type": "markdown",
      "metadata": {},
      "source": [
        "### Demands\n\n"
      ]
    },
    {
      "cell_type": "markdown",
      "metadata": {},
      "source": [
        "#### Demand functions\n\n"
      ]
    },
    {
      "cell_type": "code",
      "execution_count": 1,
      "metadata": {},
      "outputs": [],
      "source": [
        "import matplotlib.pyplot as plt\n%matplotlib notebook\n\nuse = 'Millet'  # Good we want demand curve for\n\n# Vary prices from 50% to 200% of reference.\nscale = np.linspace(.5,2,20)\n\n# Demand for Millet for household at median budget\nplt.plot([r.demands(xref,my_prices(pbar[use]*s,pbar))[use] for s in scale],scale)\n\n# Demand for Millet for household at 25% percentile\nplt.plot([r.demands(xbar.quantile(0.25),my_prices(pbar[use]*s,pbar))[use] for s in scale],scale)\n\n# Demand for Millet for household at 75% percentile\nplt.plot([r.demands(xbar.quantile(0.75),my_prices(pbar[use]*s,pbar))[use] for s in scale],scale)\n\nplt.ylabel(f\"Price (relative to base of {pbar[use]:.2f})\")\nplt.xlabel(f\"Quantities of {use} Demanded\")"
      ]
    },
    {
      "cell_type": "markdown",
      "metadata": {},
      "source": [
        "#### Engel Curves\n\n"
      ]
    },
    {
      "cell_type": "code",
      "execution_count": 1,
      "metadata": {},
      "outputs": [],
      "source": [
        "fig,ax = plt.subplots()\n\nscale = np.geomspace(.01,10,50)\n\nax.plot(np.log(scale*xref),[r.expenditures(s*xref,pbar)/(s*xref) for s in scale])\nax.set_xlabel(f'log budget (relative to base of {xref:.0f})')\nax.set_ylabel(f'Expenditure share')\nax.set_title('Engel Curves')"
      ]
    },
    {
      "cell_type": "markdown",
      "metadata": {},
      "source": [
        "### Mapping to Nutrients\n\n"
      ]
    },
    {
      "cell_type": "markdown",
      "metadata": {},
      "source": [
        "We&rsquo;ve seen how to map prices and budgets into vectors of consumption\n quantities using `cfe.Regression.demands`.  Next we want to think about\n how to map these into bundles of *nutrients*.  The information needed\n for the mapping comes from a &ldquo;Food Conversion Table&rdquo; (or database,\n such as the [USDA Food Data Central](https://fdc.nal.usda.gov/)).    We&rsquo;ve already grabbed an FCT, let&rsquo;s take a look:\n\n"
      ]
    },
    {
      "cell_type": "code",
      "execution_count": 1,
      "metadata": {},
      "outputs": [],
      "source": [
        "fct"
      ]
    },
    {
      "cell_type": "markdown",
      "metadata": {},
      "source": [
        "We need the index of the Food Conversion Table (FCT) to match up with\n the index of the vector of quantities demanded.   To manage this we\n make use of the `align` method for `pd.DataFrames`:\n\n"
      ]
    },
    {
      "cell_type": "code",
      "execution_count": 1,
      "metadata": {},
      "outputs": [],
      "source": [
        "# Create a new FCT and vector of consumption that only share rows in common:\nfct0,c0 = fct.align(qhat.T,axis=0,join='inner')\nprint(fct0.index)"
      ]
    },
    {
      "cell_type": "markdown",
      "metadata": {},
      "source": [
        "Now, since rows of `fct0` and `c0` match, we can obtain nutritional\n outcomes from the inner (or dot, or matrix) product of the transposed\n `fct0` and `c0`:\n\n"
      ]
    },
    {
      "cell_type": "code",
      "execution_count": 1,
      "metadata": {},
      "outputs": [],
      "source": [
        "# The @ operator means matrix multiply\nN = fct0.T@c0\n\nN  #NB: Uganda quantities are for previous 7 days"
      ]
    },
    {
      "cell_type": "markdown",
      "metadata": {},
      "source": [
        "Of course, since we can compute the nutritional content of a vector of\n consumption goods `c0`, we can also use our demand functions to\n compute nutrition as a *function* of prices and budget.\n\n"
      ]
    },
    {
      "cell_type": "code",
      "execution_count": 1,
      "metadata": {},
      "outputs": [],
      "source": [
        "def nutrient_demand(x,p):\n    c = r.demands(x,p)\n    fct0,c0 = fct.align(c,axis=0,join='inner')\n    N = fct0.T@c0\n\n    N = N.loc[~N.index.duplicated()]\n    \n    return N"
      ]
    },
    {
      "cell_type": "markdown",
      "metadata": {},
      "source": [
        "With this `nutrient_demand` function in hand, we can see how nutrient\n outcomes vary with budget, given prices:\n\n"
      ]
    },
    {
      "cell_type": "code",
      "execution_count": 1,
      "metadata": {},
      "outputs": [],
      "source": [
        "import numpy as np\nimport matplotlib.pyplot as plt\n\nX = np.linspace(xref/5,xref*5,50)\n\nUseNutrients = ['Protein','Energy','Iron','Calcium','Vitamin C']\n\ndf = pd.concat({myx:np.log(nutrient_demand(myx,pbar))[UseNutrients] for myx in X},axis=1).T\nax = df.plot()\n\nax.set_xlabel('log budget')\nax.set_ylabel('log nutrient')"
      ]
    },
    {
      "cell_type": "markdown",
      "metadata": {},
      "source": [
        "Now how does nutrition vary with prices?\n\n"
      ]
    },
    {
      "cell_type": "code",
      "execution_count": 1,
      "metadata": {},
      "outputs": [],
      "source": [
        "USE_GOOD = 'Oranges'\n\nscale = np.geomspace(.01,10,50)\n\nndf = pd.DataFrame({s:np.log(nutrient_demand(xref/2,my_prices(pbar[USE_GOOD]*s,j=USE_GOOD)))[UseNutrients] for s in scale}).T\n\nax = ndf.plot()\n\nax.set_xlabel('log price')\nax.set_ylabel('log nutrient')"
      ]
    },
    {
      "cell_type": "markdown",
      "metadata": {},
      "source": [
        "### Nutritional Needs of Households\n\n"
      ]
    },
    {
      "cell_type": "markdown",
      "metadata": {},
      "source": [
        "Our data on demand and nutrients is at the *household* level; we\n   can&rsquo;t directly compare household level nutrition with individual\n   level requirements.  What we **can** do is add up minimum individual\n   requirements, and see whether household total exceed these.  This\n   isn&rsquo;t a guarantee that all individuals have adequate nutrition\n   (since the way food is allocated in the household might be quite\n   unequal, or unrelated to individual requirements), but it is\n   *necessary* if all individuals are to have adequate nutrition.\n\nFor the average household in our data, the number of\ndifferent kinds of people can be computed by averaging over households:\n\n"
      ]
    },
    {
      "cell_type": "code",
      "execution_count": 1,
      "metadata": {},
      "outputs": [],
      "source": [
        "# In first round, averaged over households and villages\ndbar = r.d.mean().iloc[:-2]"
      ]
    },
    {
      "cell_type": "markdown",
      "metadata": {},
      "source": [
        "Now, the inner/dot/matrix product between `dbar` and the `rdi`\nDataFrame of requirements will give us minimum requirements for the\naverage household:\n\n"
      ]
    },
    {
      "cell_type": "code",
      "execution_count": 1,
      "metadata": {},
      "outputs": [],
      "source": [
        "# This matrix product gives minimum nutrient requirements for\n# the average household\nhh_rdi = rdi.replace('',0)@dbar\n\nhh_rdi"
      ]
    },
    {
      "cell_type": "markdown",
      "metadata": {},
      "source": [
        "## Nutritional Adequacy of Food Demands\n\n"
      ]
    },
    {
      "cell_type": "markdown",
      "metadata": {},
      "source": [
        "Since we can trace out demands for nutrients as a function of $(x,p)$,\nand we&rsquo;ve computed minimum nutritional requirements for the average\nhousehold, we can *normalize* nutritional intake to check the adequacy\nof diet for a household with counts of different kinds of people given by `z`.\n\n"
      ]
    },
    {
      "cell_type": "code",
      "execution_count": 1,
      "metadata": {},
      "outputs": [],
      "source": [
        "def nutrient_adequacy_ratio(x,p,d,rdi=rdi,days=7):\n    hh_rdi = rdi.replace('',0)@d*days\n\n    return nutrient_demand(x,p)/hh_rdi"
      ]
    },
    {
      "cell_type": "markdown",
      "metadata": {},
      "source": [
        "In terms of normalized nutrients, any household with more than one\nunit of any given nutrient (or zero in logs) will be consuming a\nminimally adequate level of the nutrient; below this level there&rsquo;s\nclearly nutritional inadequacy.  For this reason the ratio of\nactual nutrients to required nutrients is termed the &ldquo;nutrient\nadequacy ratio,&rdquo; or NAR.\n\n"
      ]
    },
    {
      "cell_type": "code",
      "execution_count": 1,
      "metadata": {},
      "outputs": [],
      "source": [
        "X = np.geomspace(.01*xref,2*xref,100)\n\npd.DataFrame({x:np.log(nutrient_adequacy_ratio(x,pbar,dbar))[UseNutrients] for x in X}).T.plot()\nplt.legend(UseNutrients)\nplt.xlabel('budget')\nplt.ylabel('log nutrient adequacy ratio')\nplt.axhline(0)\nplt.axvline(xref)"
      ]
    },
    {
      "cell_type": "markdown",
      "metadata": {},
      "source": [
        "As before, we can also vary relative prices.  Here we trace out\nnutritional adequacy varying the price of a single good:\n\n"
      ]
    },
    {
      "cell_type": "code",
      "execution_count": 1,
      "metadata": {},
      "outputs": [],
      "source": [
        "scale = np.geomspace(.01,2,50)\n\nndf = pd.DataFrame({s*pbar[USE_GOOD]:np.log(nutrient_adequacy_ratio(xref/4,my_prices(pbar[USE_GOOD]*s,j=USE_GOOD),dbar))[UseNutrients] for s in scale}).T\n\nfig,ax = plt.subplots()\nax.plot(ndf['Vitamin C'],ndf.index)\nax.axhline(pbar[USE_GOOD])\nax.axvline(0)\n\nax.set_ylabel('Price')\nax.set_xlabel('log nutrient adequacy ratio')"
      ]
    }
  ],
  "metadata": {
    "org": null,
    "kernelspec": {
      "display_name": "Python 3",
      "language": "python",
      "name": "python3"
    },
    "language_info": {
      "codemirror_mode": {
        "name": "ipython",
        "version": 3
      },
      "file_extension": ".py",
      "mimetype": "text/x-python",
      "name": "python",
      "nbconvert_exporter": "python",
      "pygments_lexer": "ipython3",
      "version": "3.5.2"
    }
  },
  "nbformat": 4,
  "nbformat_minor": 0
}

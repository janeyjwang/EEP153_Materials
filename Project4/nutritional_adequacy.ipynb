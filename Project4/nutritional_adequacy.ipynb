{
 "cells": [
  {
   "cell_type": "markdown",
   "metadata": {},
   "source": [
    "## Preface\n",
    "\n"
   ]
  },
  {
   "cell_type": "code",
   "execution_count": 1,
   "metadata": {},
   "outputs": [
    {
     "name": "stderr",
     "output_type": "stream",
     "text": [
      "/home/ligon/anaconda3/lib/python3.8/site-packages/xarray/backends/plugins.py:61: RuntimeWarning: Engine 'cfgrib' loading failed:\n",
      "Cannot find the ecCodes library\n",
      "  warnings.warn(f\"Engine {name!r} loading failed:\\n{ex}\", RuntimeWarning)\n"
     ]
    },
    {
     "data": {
      "text/plain": [
       "i\n",
       "Bengalgram Dhal           7.025319\n",
       "Brinjal                   0.845954\n",
       "Ceremonial expenses    1150.546276\n",
       "Chillies                  3.023207\n",
       "Greengram (Mung)          2.671608\n",
       "Gur (Jaggery)             2.585754\n",
       "Jowar/Sorghum             1.521374\n",
       "Milk                      4.140857\n",
       "Onion                     1.487030\n",
       "Other Dhal                6.599156\n",
       "Other Spices              3.829967\n",
       "Pan, Betel, etc.         27.440280\n",
       "Redgram Dhal              8.348026\n",
       "Rice                      3.945993\n",
       "Sugar                     2.744875\n",
       "Tea                      14.918429\n",
       "Tomato                    0.493349\n",
       "Wheat                     2.298911\n",
       "Name: i, dtype: float64"
      ]
     },
     "execution_count": 1,
     "metadata": {},
     "output_type": "execute_result"
    }
   ],
   "source": [
    "import cfe\n",
    "import pandas as pd\n",
    "import numpy as np\n",
    "import matplotlib.pyplot as plt\n",
    "\n",
    "r = cfe.result.from_dataset('Indian ICRISAT_small.ds',engine='netcdf4')\n",
    "UseNutrients=['Protein','Calories','Iron']\n",
    "\n",
    "# Reference period, market\n",
    "t,m = 75,1\n",
    "\n",
    "# Reference budget (find mean in reference period & market):\n",
    "reference_x = r.get_predicted_expenditures().mean('j').sum('i').sel(t=t,m=m)\n",
    "\n",
    "p = r.prices.sel(t=t,m=m,drop=True)\n",
    "p = p.to_dataframe('i').squeeze().dropna()\n",
    "p"
   ]
  },
  {
   "cell_type": "markdown",
   "metadata": {},
   "source": [
    "## Nutritional requirements\n",
    "\n"
   ]
  },
  {
   "cell_type": "markdown",
   "metadata": {},
   "source": [
    "Individuals have nutritional requirements established by nutrition\n",
    "scientists.  Here are some standards established by the Indian\n",
    "National Institute of Nutrition:\n",
    "\n"
   ]
  },
  {
   "cell_type": "markdown",
   "metadata": {},
   "source": [
    "### Nutritional Needs of individuals\n",
    "\n"
   ]
  },
  {
   "cell_type": "markdown",
   "metadata": {},
   "source": [
    "#### Recommended Daily Allowances: India\n",
    "\n"
   ]
  },
  {
   "cell_type": "markdown",
   "metadata": {},
   "source": [
    "| Sex-Age|Calories|Protein|Fat|Calcium|Iron|Betacarotene|Thiamine|Riboflavin|Niacin|Ascorbic Acid|\n",
    "|---|---|---|---|---|---|---|---|---|---|---|\n",
    "| C 0-0.5||||500|||.2|.3||25|\n",
    "| C 0.5-1|||19|500|5|2800|.3|.4||25|\n",
    "| C 1-3|1060|16.7|27|600|9|3200|.5|.6|8|40|\n",
    "| C 4-6|1350|20.1|25|600|13|3200|.7|.8|11|40|\n",
    "| C 7-9|1690|29.5|30|600|16|4800|.8|1.|13|40|\n",
    "| B 10-12|2190|39.9|35|800|21|4800|1.1|1.3|15|40|\n",
    "| G 10-12|2010|40.4|35|800|27|4800|1.|1.2|13|40|\n",
    "| B 13-15|2750|54.3|45|800|32|4800|1.4|1.6|16|40|\n",
    "| G 13-15|2330|51.9|40|800|27|4800|1.2|1.4|14|40|\n",
    "| B 16-17|3020|61.5|50|800|28|4800|1.5|1.8|17|40|\n",
    "| G 16-17|2440|55.5|35|800|26|4800|1.|1.2|14|40|\n",
    "| M|2730|60|30|600|17|4800|1.4|1.4|18|40|\n",
    "| W|2230|55|25|1200|21|4800|1.1|1.3|14|40|\n",
    "\n"
   ]
  },
  {
   "cell_type": "markdown",
   "metadata": {},
   "source": [
    "### Nutritional Needs of Households\n",
    "\n"
   ]
  },
  {
   "cell_type": "markdown",
   "metadata": {},
   "source": [
    "Our data on demand and nutrients is at the *household* level; we\n",
    "   can&rsquo;t directly compare household level nutrition with individual\n",
    "   level requirements.  What we **can** do is add up minimum individual\n",
    "   requirements, and see whether household total exceed these.  This\n",
    "   isn&rsquo;t a guarantee that all individuals have adequate nutrition\n",
    "   (since the way food is allocated in the household might be quite\n",
    "   unequal, or unrelated to individual requirements), but it is\n",
    "   *necessary* if all individuals are to have adequate nutrition.\n",
    "\n",
    "For the average household in the ICRISAT villages, the number of\n",
    "different kinds of people can be computed by averaging over households:\n",
    "\n"
   ]
  },
  {
   "cell_type": "code",
   "execution_count": 2,
   "metadata": {},
   "outputs": [],
   "source": [
    "# In first round, averaged over households and villages\n",
    "\n",
    "zbar = r.z.sel(t=r.firstround,drop=True).mean(['j','m'])[:-1].squeeze() # Leave out log HSize\n",
    "\n",
    "zbar = zbar.to_dataframe().squeeze()"
   ]
  },
  {
   "cell_type": "markdown",
   "metadata": {},
   "source": [
    "Now, the inner/dot/matrix product between `zbar` and the `rda`\n",
    "DataFrame of requirements will give us minimum requirements for the\n",
    "average household:\n",
    "\n"
   ]
  },
  {
   "cell_type": "code",
   "execution_count": 3,
   "metadata": {},
   "outputs": [],
   "source": [
    "rda = pd.read_pickle('indian_rda.df').T\n",
    "\n",
    "# May need to tweak types or alignment to match RDA and zbar types:\n",
    "rda0,zbar0=rda.align(zbar,axis=1)\n",
    "\n",
    "# This matrix product gives minimum nutrient requirements for average\n",
    "# household in 1975\n",
    "hh_rda = rda0.replace('',0)@zbar0\n",
    "\n",
    "# RDA is /daily/, but  demands in ICRISAT data are /annual/:\n",
    "hh_rda = hh_rda*365"
   ]
  },
  {
   "cell_type": "markdown",
   "metadata": {},
   "source": [
    "## Nutritional Adequacy of Food Demands\n",
    "\n"
   ]
  },
  {
   "cell_type": "markdown",
   "metadata": {},
   "source": [
    "### Food Conversion Table\n",
    "\n"
   ]
  },
  {
   "cell_type": "markdown",
   "metadata": {},
   "source": [
    "As usual, we need data to convert foods to nutrients:\n",
    "\n"
   ]
  },
  {
   "cell_type": "code",
   "execution_count": 4,
   "metadata": {},
   "outputs": [
    {
     "name": "stdout",
     "output_type": "stream",
     "text": [
      "Key available for students@eep153.iam.gserviceaccount.com.\n",
      "Key available for instructors@eep153.iam.gserviceaccount.com.\n"
     ]
    }
   ],
   "source": [
    "from eep153_tools.sheets import read_sheets\n",
    "\n",
    "DataURL = 'https://docs.google.com/spreadsheets/d/13Ig5hZif-NSHtgkKRp_cEgKXk0lOsdUB2BAD6O_FnRo'\n",
    "key = DataURL.split('/')[-1]\n",
    "\n",
    "fct = read_sheets(key,sheet='FCT').set_index('i')"
   ]
  },
  {
   "cell_type": "markdown",
   "metadata": {},
   "source": [
    "### Prices\n",
    "\n"
   ]
  },
  {
   "cell_type": "code",
   "execution_count": 5,
   "metadata": {},
   "outputs": [],
   "source": [
    "def my_prices(p0,p=p,i='Coconut'):\n",
    "    p = p.copy()\n",
    "    p.loc[i] = p0\n",
    "    return p"
   ]
  },
  {
   "cell_type": "markdown",
   "metadata": {},
   "source": [
    "### Nutrient Demand\n",
    "\n"
   ]
  },
  {
   "cell_type": "markdown",
   "metadata": {},
   "source": [
    "We can also use our demand functions to\n",
    " compute nutrition as a *function* of prices and budget.\n",
    "\n"
   ]
  },
  {
   "cell_type": "code",
   "execution_count": 6,
   "metadata": {},
   "outputs": [],
   "source": [
    "import warnings \n",
    "\n",
    "def nutrient_demand(x,p):\n",
    "    with warnings.catch_warnings():\n",
    "        warnings.simplefilter(\"ignore\")\n",
    "        c = r.demands(x,p)\n",
    "\n",
    "    fct0,c0 = fct.align(c,axis=0,join='inner')\n",
    "    N = fct0.T@c0\n",
    "\n",
    "    N = N.loc[~N.index.duplicated()]\n",
    "    \n",
    "    return N"
   ]
  },
  {
   "cell_type": "markdown",
   "metadata": {},
   "source": [
    "With this `nutrient_demand` function in hand, we can see how nutrient\n",
    " outcomes vary with budget, given prices:\n",
    "\n"
   ]
  },
  {
   "cell_type": "code",
   "execution_count": 7,
   "metadata": {},
   "outputs": [
    {
     "data": {
      "text/plain": [
       "Text(0, 0.5, 'log nutrient')"
      ]
     },
     "execution_count": 7,
     "metadata": {},
     "output_type": "execute_result"
    },
    {
     "data": {
      "image/png": "[encoded data removed]",
      "text/plain": [
       "<Figure size 432x288 with 1 Axes>"
      ]
     },
     "metadata": {
      "needs_background": "light"
     },
     "output_type": "display_data"
    }
   ],
   "source": [
    "import numpy as np\n",
    "import matplotlib.pyplot as plt\n",
    "\n",
    "X = np.linspace(reference_x/5,reference_x*5,50)\n",
    "\n",
    "UseNutrients = ['Protein','Calories','Iron','Calcium']\n",
    "\n",
    "df = pd.concat({myx:np.log(nutrient_demand(myx,p))[UseNutrients] for myx in X},axis=1).T\n",
    "ax = df.plot()\n",
    "\n",
    "ax.set_xlabel('log budget')\n",
    "ax.set_ylabel('log nutrient')"
   ]
  },
  {
   "cell_type": "markdown",
   "metadata": {},
   "source": [
    "Now how does nutrition vary with prices?\n",
    "\n"
   ]
  },
  {
   "cell_type": "code",
   "execution_count": 12,
   "metadata": {},
   "outputs": [
    {
     "data": {
      "text/plain": [
       "Text(0, 0.5, 'log nutrient')"
      ]
     },
     "execution_count": 12,
     "metadata": {},
     "output_type": "execute_result"
    },
    {
     "data": {
      "image/png": "[encoded data removed]",
      "text/plain": [
       "<Figure size 432x288 with 1 Axes>"
      ]
     },
     "metadata": {
      "needs_background": "light"
     },
     "output_type": "display_data"
    }
   ],
   "source": [
    "USE_GOOD = 'Wheat'\n",
    "\n",
    "ref_price = r.prices.sel(i=USE_GOOD,t=t,m=m,drop=True)\n",
    "\n",
    "P = np.linspace(1,5,20).tolist()\n",
    "\n",
    "ndf = pd.DataFrame({p0:np.log(nutrient_demand(reference_x,my_prices(p0,i=USE_GOOD)))[UseNutrients] for p0 in P}).T\n",
    "\n",
    "ax = ndf.plot()\n",
    "\n",
    "ax.set_xlabel('log price')\n",
    "ax.set_ylabel('log nutrient')"
   ]
  },
  {
   "cell_type": "markdown",
   "metadata": {},
   "source": [
    "### Nutritional Adequacy\n",
    "\n"
   ]
  },
  {
   "cell_type": "markdown",
   "metadata": {},
   "source": [
    "Since we can trace out demands for nutrients as a function of $(x,p)$,\n",
    "and we&rsquo;ve computed minimum nutritional requirements for the average\n",
    "household, we can *normalize* nutritional intake to check the adequacy\n",
    "of diet.\n",
    "\n"
   ]
  },
  {
   "cell_type": "code",
   "execution_count": 9,
   "metadata": {},
   "outputs": [],
   "source": [
    "def nutrient_adequacy_ratio(x,p):\n",
    "    return nutrient_demand(x,p)/hh_rda"
   ]
  },
  {
   "cell_type": "markdown",
   "metadata": {},
   "source": [
    "In terms of normalized nutrients, any household with more than one\n",
    "unit of any given nutrient (or zero in logs) will be consuming a\n",
    "minimally adequate level of the nutrient; below this level there&rsquo;s\n",
    "clearly nutritional inadequacy.  For this reason the ratio of\n",
    "actual nutrients to required nutrients is termed the &ldquo;nutrient\n",
    "adequacy ratio,&rdquo; or NAR.\n",
    "\n"
   ]
  },
  {
   "cell_type": "code",
   "execution_count": 13,
   "metadata": {},
   "outputs": [
    {
     "data": {
      "text/plain": [
       "<matplotlib.lines.Line2D at 0x78439d4d4be0>"
      ]
     },
     "execution_count": 13,
     "metadata": {},
     "output_type": "execute_result"
    },
    {
     "data": {
      "image/png": "[encoded data removed]",
      "text/plain": [
       "<Figure size 432x288 with 1 Axes>"
      ]
     },
     "metadata": {
      "needs_background": "light"
     },
     "output_type": "display_data"
    }
   ],
   "source": [
    "X = np.linspace(reference_x/5,reference_x*5,50)\n",
    "\n",
    "ndf = pd.concat({x:np.log(nutrient_adequacy_ratio(x,p))[UseNutrients] for x in X},axis=1).T\n",
    "\n",
    "ax = ndf.plot()\n",
    "\n",
    "ax.set_xlabel('log budget')\n",
    "ax.set_ylabel('log nutrient adequacy ratio')\n",
    "ax.axhline(0)"
   ]
  },
  {
   "cell_type": "markdown",
   "metadata": {},
   "source": [
    "As before, we can also vary relative prices.  Here we trace out\n",
    "nutritional adequacy varying the price of a single good:\n",
    "\n"
   ]
  },
  {
   "cell_type": "code",
   "execution_count": null,
   "metadata": {},
   "outputs": [],
   "source": [
    "poorer_x = reference_x/2\n",
    "\n",
    "Pscale = np.linspace(1,3,20).tolist()\n",
    "\n",
    "log_nar = {s0:np.log(nutrient_adequacy_ratio(reference_x,my_prices(s0,p,i=USE_GOOD)))[UseNutrients] for s0 in Pscale}\n",
    "\n",
    "log_nar = pd.DataFrame(log_nar).T\n",
    "\n",
    "ax = log_nar.plot(ylabel='log NAR',xlabel='Price')\n",
    "\n",
    "\n",
    "ax.axhline(0)\n",
    "ax.axvline(p[USE_GOOD])"
   ]
  }
 ],
 "metadata": {
  "kernelspec": {
   "display_name": "Python 3 (ipykernel)",
   "language": "python",
   "name": "python3"
  },
  "language_info": {
   "codemirror_mode": {
    "name": "ipython",
    "version": 3
   },
   "file_extension": ".py",
   "mimetype": "text/x-python",
   "name": "python",
   "nbconvert_exporter": "python",
   "pygments_lexer": "ipython3",
   "version": "3.8.8"
  },
  "org": null
 },
 "nbformat": 4,
 "nbformat_minor": 1
}

{
 "cells": [
  {
   "cell_type": "markdown",
   "metadata": {},
   "source": [
    "## Preface\n",
    "\n"
   ]
  },
  {
   "cell_type": "code",
   "execution_count": 1,
   "metadata": {},
   "outputs": [
    {
     "name": "stderr",
     "output_type": "stream",
     "text": [
      "/home/ligon/anaconda3/lib/python3.8/site-packages/xarray/backends/plugins.py:61: RuntimeWarning: Engine 'cfgrib' loading failed:\n",
      "Cannot find the ecCodes library\n",
      "  warnings.warn(f\"Engine {name!r} loading failed:\\n{ex}\", RuntimeWarning)\n"
     ]
    },
    {
     "data": {
      "text/plain": [
       "i\n",
       "Bengalgram Dhal           7.025319\n",
       "Brinjal                   0.845954\n",
       "Ceremonial expenses    1150.546276\n",
       "Chillies                  3.023207\n",
       "Greengram (Mung)          2.671608\n",
       "Gur (Jaggery)             2.585754\n",
       "Jowar/Sorghum             1.521374\n",
       "Milk                      4.140857\n",
       "Onion                     1.487030\n",
       "Other Dhal                6.599156\n",
       "Other Spices              3.829967\n",
       "Pan, Betel, etc.         27.440280\n",
       "Redgram Dhal              8.348026\n",
       "Rice                      3.945993\n",
       "Sugar                     2.744875\n",
       "Tea                      14.918429\n",
       "Tomato                    0.493349\n",
       "Wheat                     2.298911\n",
       "Name: i, dtype: float64"
      ]
     },
     "execution_count": 1,
     "metadata": {},
     "output_type": "execute_result"
    }
   ],
   "source": [
    "import cfe\n",
    "import pandas as pd\n",
    "import numpy as np\n",
    "import matplotlib.pyplot as plt\n",
    "\n",
    "r = cfe.result.from_dataset('Indian ICRISAT_small.ds',engine='netcdf4')\n",
    "UseNutrients=['Protein','Calories','Iron']\n",
    "\n",
    "# Reference period, market\n",
    "t,m = 75,1\n",
    "\n",
    "# Reference budget (find mean in reference period & market):\n",
    "reference_x = r.get_predicted_expenditures().mean('j').sum('i').sel(t=t,m=m)\n",
    "\n",
    "p = r.prices.sel(t=t,m=m,drop=True)\n",
    "p = p.to_dataframe('i').squeeze().dropna()\n",
    "p"
   ]
  },
  {
   "cell_type": "markdown",
   "metadata": {},
   "source": [
    "## Nutritional requirements\n",
    "\n"
   ]
  },
  {
   "cell_type": "markdown",
   "metadata": {},
   "source": [
    "Individuals have nutritional requirements established by nutrition\n",
    "scientists.  Here are some standards established by the Indian\n",
    "National Institute of Nutrition:\n",
    "\n"
   ]
  },
  {
   "cell_type": "markdown",
   "metadata": {},
   "source": [
    "### Nutritional Needs of individuals\n",
    "\n"
   ]
  },
  {
   "cell_type": "markdown",
   "metadata": {},
   "source": [
    "#### Recommended Daily Allowances: India\n",
    "\n"
   ]
  },
  {
   "cell_type": "markdown",
   "metadata": {},
   "source": [
    "| Sex-Age|Calories|Protein|Fat|Calcium|Iron|Betacarotene|Thiamine|Riboflavin|Niacin|Ascorbic Acid|\n",
    "|---|---|---|---|---|---|---|---|---|---|---|\n",
    "| C 0-0.5||||500|||.2|.3||25|\n",
    "| C 0.5-1|||19|500|5|2800|.3|.4||25|\n",
    "| C 1-3|1060|16.7|27|600|9|3200|.5|.6|8|40|\n",
    "| C 4-6|1350|20.1|25|600|13|3200|.7|.8|11|40|\n",
    "| C 7-9|1690|29.5|30|600|16|4800|.8|1.|13|40|\n",
    "| B 10-12|2190|39.9|35|800|21|4800|1.1|1.3|15|40|\n",
    "| G 10-12|2010|40.4|35|800|27|4800|1.|1.2|13|40|\n",
    "| B 13-15|2750|54.3|45|800|32|4800|1.4|1.6|16|40|\n",
    "| G 13-15|2330|51.9|40|800|27|4800|1.2|1.4|14|40|\n",
    "| B 16-17|3020|61.5|50|800|28|4800|1.5|1.8|17|40|\n",
    "| G 16-17|2440|55.5|35|800|26|4800|1.|1.2|14|40|\n",
    "| M|2730|60|30|600|17|4800|1.4|1.4|18|40|\n",
    "| W|2230|55|25|1200|21|4800|1.1|1.3|14|40|\n",
    "\n"
   ]
  },
  {
   "cell_type": "markdown",
   "metadata": {},
   "source": [
    "### Nutritional Needs of Households\n",
    "\n"
   ]
  },
  {
   "cell_type": "markdown",
   "metadata": {},
   "source": [
    "Our data on demand and nutrients is at the *household* level; we\n",
    "   can&rsquo;t directly compare household level nutrition with individual\n",
    "   level requirements.  What we **can** do is add up minimum individual\n",
    "   requirements, and see whether household total exceed these.  This\n",
    "   isn&rsquo;t a guarantee that all individuals have adequate nutrition\n",
    "   (since the way food is allocated in the household might be quite\n",
    "   unequal, or unrelated to individual requirements), but it is\n",
    "   *necessary* if all individuals are to have adequate nutrition.\n",
    "\n",
    "For the average household in the ICRISAT villages, the number of\n",
    "different kinds of people can be computed by averaging over households:\n",
    "\n"
   ]
  },
  {
   "cell_type": "code",
   "execution_count": 11,
   "metadata": {},
   "outputs": [
    {
     "data": {
      "text/html": [
       "<div><svg style=\"position: absolute; width: 0; height: 0; overflow: hidden\">\n",
       "<defs>\n",
       "<symbol id=\"icon-database\" viewBox=\"0 0 32 32\">\n",
       "<path d=\"M16 0c-8.837 0-16 2.239-16 5v4c0 2.761 7.163 5 16 5s16-2.239 16-5v-4c0-2.761-7.163-5-16-5z\"></path>\n",
       "<path d=\"M16 17c-8.837 0-16-2.239-16-5v6c0 2.761 7.163 5 16 5s16-2.239 16-5v-6c0 2.761-7.163 5-16 5z\"></path>\n",
       "<path d=\"M16 26c-8.837 0-16-2.239-16-5v6c0 2.761 7.163 5 16 5s16-2.239 16-5v-6c0 2.761-7.163 5-16 5z\"></path>\n",
       "</symbol>\n",
       "<symbol id=\"icon-file-text2\" viewBox=\"0 0 32 32\">\n",
       "<path d=\"M28.681 7.159c-0.694-0.947-1.662-2.053-2.724-3.116s-2.169-2.030-3.116-2.724c-1.612-1.182-2.393-1.319-2.841-1.319h-15.5c-1.378 0-2.5 1.121-2.5 2.5v27c0 1.378 1.122 2.5 2.5 2.5h23c1.378 0 2.5-1.122 2.5-2.5v-19.5c0-0.448-0.137-1.23-1.319-2.841zM24.543 5.457c0.959 0.959 1.712 1.825 2.268 2.543h-4.811v-4.811c0.718 0.556 1.584 1.309 2.543 2.268zM28 29.5c0 0.271-0.229 0.5-0.5 0.5h-23c-0.271 0-0.5-0.229-0.5-0.5v-27c0-0.271 0.229-0.5 0.5-0.5 0 0 15.499-0 15.5 0v7c0 0.552 0.448 1 1 1h7v19.5z\"></path>\n",
       "<path d=\"M23 26h-14c-0.552 0-1-0.448-1-1s0.448-1 1-1h14c0.552 0 1 0.448 1 1s-0.448 1-1 1z\"></path>\n",
       "<path d=\"M23 22h-14c-0.552 0-1-0.448-1-1s0.448-1 1-1h14c0.552 0 1 0.448 1 1s-0.448 1-1 1z\"></path>\n",
       "<path d=\"M23 18h-14c-0.552 0-1-0.448-1-1s0.448-1 1-1h14c0.552 0 1 0.448 1 1s-0.448 1-1 1z\"></path>\n",
       "</symbol>\n",
       "</defs>\n",
       "</svg>\n",
       "<style>/* CSS stylesheet for displaying xarray objects in jupyterlab.\n",
       " *\n",
       " */\n",
       "\n",
       ":root {\n",
       "  --xr-font-color0: var(--jp-content-font-color0, rgba(0, 0, 0, 1));\n",
       "  --xr-font-color2: var(--jp-content-font-color2, rgba(0, 0, 0, 0.54));\n",
       "  --xr-font-color3: var(--jp-content-font-color3, rgba(0, 0, 0, 0.38));\n",
       "  --xr-border-color: var(--jp-border-color2, #e0e0e0);\n",
       "  --xr-disabled-color: var(--jp-layout-color3, #bdbdbd);\n",
       "  --xr-background-color: var(--jp-layout-color0, white);\n",
       "  --xr-background-color-row-even: var(--jp-layout-color1, white);\n",
       "  --xr-background-color-row-odd: var(--jp-layout-color2, #eeeeee);\n",
       "}\n",
       "\n",
       "html[theme=dark],\n",
       "body.vscode-dark {\n",
       "  --xr-font-color0: rgba(255, 255, 255, 1);\n",
       "  --xr-font-color2: rgba(255, 255, 255, 0.54);\n",
       "  --xr-font-color3: rgba(255, 255, 255, 0.38);\n",
       "  --xr-border-color: #1F1F1F;\n",
       "  --xr-disabled-color: #515151;\n",
       "  --xr-background-color: #111111;\n",
       "  --xr-background-color-row-even: #111111;\n",
       "  --xr-background-color-row-odd: #313131;\n",
       "}\n",
       "\n",
       ".xr-wrap {\n",
       "  display: block;\n",
       "  min-width: 300px;\n",
       "  max-width: 700px;\n",
       "}\n",
       "\n",
       ".xr-text-repr-fallback {\n",
       "  /* fallback to plain text repr when CSS is not injected (untrusted notebook) */\n",
       "  display: none;\n",
       "}\n",
       "\n",
       ".xr-header {\n",
       "  padding-top: 6px;\n",
       "  padding-bottom: 6px;\n",
       "  margin-bottom: 4px;\n",
       "  border-bottom: solid 1px var(--xr-border-color);\n",
       "}\n",
       "\n",
       ".xr-header > div,\n",
       ".xr-header > ul {\n",
       "  display: inline;\n",
       "  margin-top: 0;\n",
       "  margin-bottom: 0;\n",
       "}\n",
       "\n",
       ".xr-obj-type,\n",
       ".xr-array-name {\n",
       "  margin-left: 2px;\n",
       "  margin-right: 10px;\n",
       "}\n",
       "\n",
       ".xr-obj-type {\n",
       "  color: var(--xr-font-color2);\n",
       "}\n",
       "\n",
       ".xr-sections {\n",
       "  padding-left: 0 !important;\n",
       "  display: grid;\n",
       "  grid-template-columns: 150px auto auto 1fr 20px 20px;\n",
       "}\n",
       "\n",
       ".xr-section-item {\n",
       "  display: contents;\n",
       "}\n",
       "\n",
       ".xr-section-item input {\n",
       "  display: none;\n",
       "}\n",
       "\n",
       ".xr-section-item input + label {\n",
       "  color: var(--xr-disabled-color);\n",
       "}\n",
       "\n",
       ".xr-section-item input:enabled + label {\n",
       "  cursor: pointer;\n",
       "  color: var(--xr-font-color2);\n",
       "}\n",
       "\n",
       ".xr-section-item input:enabled + label:hover {\n",
       "  color: var(--xr-font-color0);\n",
       "}\n",
       "\n",
       ".xr-section-summary {\n",
       "  grid-column: 1;\n",
       "  color: var(--xr-font-color2);\n",
       "  font-weight: 500;\n",
       "}\n",
       "\n",
       ".xr-section-summary > span {\n",
       "  display: inline-block;\n",
       "  padding-left: 0.5em;\n",
       "}\n",
       "\n",
       ".xr-section-summary-in:disabled + label {\n",
       "  color: var(--xr-font-color2);\n",
       "}\n",
       "\n",
       ".xr-section-summary-in + label:before {\n",
       "  display: inline-block;\n",
       "  content: '►';\n",
       "  font-size: 11px;\n",
       "  width: 15px;\n",
       "  text-align: center;\n",
       "}\n",
       "\n",
       ".xr-section-summary-in:disabled + label:before {\n",
       "  color: var(--xr-disabled-color);\n",
       "}\n",
       "\n",
       ".xr-section-summary-in:checked + label:before {\n",
       "  content: '▼';\n",
       "}\n",
       "\n",
       ".xr-section-summary-in:checked + label > span {\n",
       "  display: none;\n",
       "}\n",
       "\n",
       ".xr-section-summary,\n",
       ".xr-section-inline-details {\n",
       "  padding-top: 4px;\n",
       "  padding-bottom: 4px;\n",
       "}\n",
       "\n",
       ".xr-section-inline-details {\n",
       "  grid-column: 2 / -1;\n",
       "}\n",
       "\n",
       ".xr-section-details {\n",
       "  display: none;\n",
       "  grid-column: 1 / -1;\n",
       "  margin-bottom: 5px;\n",
       "}\n",
       "\n",
       ".xr-section-summary-in:checked ~ .xr-section-details {\n",
       "  display: contents;\n",
       "}\n",
       "\n",
       ".xr-array-wrap {\n",
       "  grid-column: 1 / -1;\n",
       "  display: grid;\n",
       "  grid-template-columns: 20px auto;\n",
       "}\n",
       "\n",
       ".xr-array-wrap > label {\n",
       "  grid-column: 1;\n",
       "  vertical-align: top;\n",
       "}\n",
       "\n",
       ".xr-preview {\n",
       "  color: var(--xr-font-color3);\n",
       "}\n",
       "\n",
       ".xr-array-preview,\n",
       ".xr-array-data {\n",
       "  padding: 0 5px !important;\n",
       "  grid-column: 2;\n",
       "}\n",
       "\n",
       ".xr-array-data,\n",
       ".xr-array-in:checked ~ .xr-array-preview {\n",
       "  display: none;\n",
       "}\n",
       "\n",
       ".xr-array-in:checked ~ .xr-array-data,\n",
       ".xr-array-preview {\n",
       "  display: inline-block;\n",
       "}\n",
       "\n",
       ".xr-dim-list {\n",
       "  display: inline-block !important;\n",
       "  list-style: none;\n",
       "  padding: 0 !important;\n",
       "  margin: 0;\n",
       "}\n",
       "\n",
       ".xr-dim-list li {\n",
       "  display: inline-block;\n",
       "  padding: 0;\n",
       "  margin: 0;\n",
       "}\n",
       "\n",
       ".xr-dim-list:before {\n",
       "  content: '(';\n",
       "}\n",
       "\n",
       ".xr-dim-list:after {\n",
       "  content: ')';\n",
       "}\n",
       "\n",
       ".xr-dim-list li:not(:last-child):after {\n",
       "  content: ',';\n",
       "  padding-right: 5px;\n",
       "}\n",
       "\n",
       ".xr-has-index {\n",
       "  font-weight: bold;\n",
       "}\n",
       "\n",
       ".xr-var-list,\n",
       ".xr-var-item {\n",
       "  display: contents;\n",
       "}\n",
       "\n",
       ".xr-var-item > div,\n",
       ".xr-var-item label,\n",
       ".xr-var-item > .xr-var-name span {\n",
       "  background-color: var(--xr-background-color-row-even);\n",
       "  margin-bottom: 0;\n",
       "}\n",
       "\n",
       ".xr-var-item > .xr-var-name:hover span {\n",
       "  padding-right: 5px;\n",
       "}\n",
       "\n",
       ".xr-var-list > li:nth-child(odd) > div,\n",
       ".xr-var-list > li:nth-child(odd) > label,\n",
       ".xr-var-list > li:nth-child(odd) > .xr-var-name span {\n",
       "  background-color: var(--xr-background-color-row-odd);\n",
       "}\n",
       "\n",
       ".xr-var-name {\n",
       "  grid-column: 1;\n",
       "}\n",
       "\n",
       ".xr-var-dims {\n",
       "  grid-column: 2;\n",
       "}\n",
       "\n",
       ".xr-var-dtype {\n",
       "  grid-column: 3;\n",
       "  text-align: right;\n",
       "  color: var(--xr-font-color2);\n",
       "}\n",
       "\n",
       ".xr-var-preview {\n",
       "  grid-column: 4;\n",
       "}\n",
       "\n",
       ".xr-var-name,\n",
       ".xr-var-dims,\n",
       ".xr-var-dtype,\n",
       ".xr-preview,\n",
       ".xr-attrs dt {\n",
       "  white-space: nowrap;\n",
       "  overflow: hidden;\n",
       "  text-overflow: ellipsis;\n",
       "  padding-right: 10px;\n",
       "}\n",
       "\n",
       ".xr-var-name:hover,\n",
       ".xr-var-dims:hover,\n",
       ".xr-var-dtype:hover,\n",
       ".xr-attrs dt:hover {\n",
       "  overflow: visible;\n",
       "  width: auto;\n",
       "  z-index: 1;\n",
       "}\n",
       "\n",
       ".xr-var-attrs,\n",
       ".xr-var-data {\n",
       "  display: none;\n",
       "  background-color: var(--xr-background-color) !important;\n",
       "  padding-bottom: 5px !important;\n",
       "}\n",
       "\n",
       ".xr-var-attrs-in:checked ~ .xr-var-attrs,\n",
       ".xr-var-data-in:checked ~ .xr-var-data {\n",
       "  display: block;\n",
       "}\n",
       "\n",
       ".xr-var-data > table {\n",
       "  float: right;\n",
       "}\n",
       "\n",
       ".xr-var-name span,\n",
       ".xr-var-data,\n",
       ".xr-attrs {\n",
       "  padding-left: 25px !important;\n",
       "}\n",
       "\n",
       ".xr-attrs,\n",
       ".xr-var-attrs,\n",
       ".xr-var-data {\n",
       "  grid-column: 1 / -1;\n",
       "}\n",
       "\n",
       "dl.xr-attrs {\n",
       "  padding: 0;\n",
       "  margin: 0;\n",
       "  display: grid;\n",
       "  grid-template-columns: 125px auto;\n",
       "}\n",
       "\n",
       ".xr-attrs dt,\n",
       ".xr-attrs dd {\n",
       "  padding: 0;\n",
       "  margin: 0;\n",
       "  float: left;\n",
       "  padding-right: 10px;\n",
       "  width: auto;\n",
       "}\n",
       "\n",
       ".xr-attrs dt {\n",
       "  font-weight: normal;\n",
       "  grid-column: 1;\n",
       "}\n",
       "\n",
       ".xr-attrs dt:hover span {\n",
       "  display: inline-block;\n",
       "  background: var(--xr-background-color);\n",
       "  padding-right: 10px;\n",
       "}\n",
       "\n",
       ".xr-attrs dd {\n",
       "  grid-column: 2;\n",
       "  white-space: pre-wrap;\n",
       "  word-break: break-all;\n",
       "}\n",
       "\n",
       ".xr-icon-database,\n",
       ".xr-icon-file-text2 {\n",
       "  display: inline-block;\n",
       "  vertical-align: middle;\n",
       "  width: 1em;\n",
       "  height: 1.5em !important;\n",
       "  stroke-width: 0;\n",
       "  stroke: currentColor;\n",
       "  fill: currentColor;\n",
       "}\n",
       "</style><pre class='xr-text-repr-fallback'>&lt;xarray.DataArray &#x27;i&#x27; (i: 24)&gt;\n",
       "array([&#x27;Barber service (and material relating to it)&#x27;, &#x27;Bengalgram Dhal&#x27;,\n",
       "       &#x27;Brinjal&#x27;, &#x27;Ceremonial expenses&#x27;, &#x27;Chillies&#x27;, &#x27;Clothing&#x27;,\n",
       "       &#x27;Greengram (Mung)&#x27;, &#x27;Grinding/milling charges&#x27;, &#x27;Gur (Jaggery)&#x27;,\n",
       "       &#x27;Jowar/Sorghum&#x27;, &#x27;Milk&#x27;, &#x27;Onion&#x27;, &#x27;Other Dhal&#x27;, &#x27;Other Spices&#x27;,\n",
       "       &#x27;Pan, Betel, etc.&#x27;, &#x27;Redgram Dhal&#x27;, &#x27;Rice&#x27;, &#x27;Sugar&#x27;, &#x27;Tea&#x27;, &#x27;Tomato&#x27;,\n",
       "       &#x27;Wheat&#x27;, &#x27;Other vegetables&#x27;, &#x27;Other spices&#x27;, &#x27;Gur (jaggery)&#x27;],\n",
       "      dtype=object)\n",
       "Coordinates:\n",
       "  * i        (i) object &#x27;Barber service (and material relating to it)&#x27; ... &#x27;G...</pre><div class='xr-wrap' hidden><div class='xr-header'><div class='xr-obj-type'>xarray.DataArray</div><div class='xr-array-name'>'i'</div><ul class='xr-dim-list'><li><span class='xr-has-index'>i</span>: 24</li></ul></div><ul class='xr-sections'><li class='xr-section-item'><div class='xr-array-wrap'><input id='section-48a0d2d3-e81b-40f7-aa03-b2c6fc7ee228' class='xr-array-in' type='checkbox' checked><label for='section-48a0d2d3-e81b-40f7-aa03-b2c6fc7ee228' title='Show/hide data repr'><svg class='icon xr-icon-database'><use xlink:href='#icon-database'></use></svg></label><div class='xr-array-preview xr-preview'><span>&#x27;Barber service (and material relating to it)&#x27; ... &#x27;Gur (jaggery)&#x27;</span></div><div class='xr-array-data'><pre>array([&#x27;Barber service (and material relating to it)&#x27;, &#x27;Bengalgram Dhal&#x27;,\n",
       "       &#x27;Brinjal&#x27;, &#x27;Ceremonial expenses&#x27;, &#x27;Chillies&#x27;, &#x27;Clothing&#x27;,\n",
       "       &#x27;Greengram (Mung)&#x27;, &#x27;Grinding/milling charges&#x27;, &#x27;Gur (Jaggery)&#x27;,\n",
       "       &#x27;Jowar/Sorghum&#x27;, &#x27;Milk&#x27;, &#x27;Onion&#x27;, &#x27;Other Dhal&#x27;, &#x27;Other Spices&#x27;,\n",
       "       &#x27;Pan, Betel, etc.&#x27;, &#x27;Redgram Dhal&#x27;, &#x27;Rice&#x27;, &#x27;Sugar&#x27;, &#x27;Tea&#x27;, &#x27;Tomato&#x27;,\n",
       "       &#x27;Wheat&#x27;, &#x27;Other vegetables&#x27;, &#x27;Other spices&#x27;, &#x27;Gur (jaggery)&#x27;],\n",
       "      dtype=object)</pre></div></div></li><li class='xr-section-item'><input id='section-a71d2e50-c2b8-46fe-9068-73137afa7184' class='xr-section-summary-in' type='checkbox'  checked><label for='section-a71d2e50-c2b8-46fe-9068-73137afa7184' class='xr-section-summary' >Coordinates: <span>(1)</span></label><div class='xr-section-inline-details'></div><div class='xr-section-details'><ul class='xr-var-list'><li class='xr-var-item'><div class='xr-var-name'><span class='xr-has-index'>i</span></div><div class='xr-var-dims'>(i)</div><div class='xr-var-dtype'>object</div><div class='xr-var-preview xr-preview'>&#x27;Barber service (and material re...</div><input id='attrs-4cf34426-ae25-40a8-881b-7138c242c692' class='xr-var-attrs-in' type='checkbox' disabled><label for='attrs-4cf34426-ae25-40a8-881b-7138c242c692' title='Show/Hide attributes'><svg class='icon xr-icon-file-text2'><use xlink:href='#icon-file-text2'></use></svg></label><input id='data-19be9a3f-0872-46a5-88b4-b4ed1e3c5584' class='xr-var-data-in' type='checkbox'><label for='data-19be9a3f-0872-46a5-88b4-b4ed1e3c5584' title='Show/Hide data repr'><svg class='icon xr-icon-database'><use xlink:href='#icon-database'></use></svg></label><div class='xr-var-attrs'><dl class='xr-attrs'></dl></div><div class='xr-var-data'><pre>array([&#x27;Barber service (and material relating to it)&#x27;, &#x27;Bengalgram Dhal&#x27;,\n",
       "       &#x27;Brinjal&#x27;, &#x27;Ceremonial expenses&#x27;, &#x27;Chillies&#x27;, &#x27;Clothing&#x27;,\n",
       "       &#x27;Greengram (Mung)&#x27;, &#x27;Grinding/milling charges&#x27;, &#x27;Gur (Jaggery)&#x27;,\n",
       "       &#x27;Jowar/Sorghum&#x27;, &#x27;Milk&#x27;, &#x27;Onion&#x27;, &#x27;Other Dhal&#x27;, &#x27;Other Spices&#x27;,\n",
       "       &#x27;Pan, Betel, etc.&#x27;, &#x27;Redgram Dhal&#x27;, &#x27;Rice&#x27;, &#x27;Sugar&#x27;, &#x27;Tea&#x27;, &#x27;Tomato&#x27;,\n",
       "       &#x27;Wheat&#x27;, &#x27;Other vegetables&#x27;, &#x27;Other spices&#x27;, &#x27;Gur (jaggery)&#x27;],\n",
       "      dtype=object)</pre></div></li></ul></div></li><li class='xr-section-item'><input id='section-38a07201-bcb9-4864-87ee-ec79bf7b1888' class='xr-section-summary-in' type='checkbox' disabled ><label for='section-38a07201-bcb9-4864-87ee-ec79bf7b1888' class='xr-section-summary'  title='Expand/collapse section'>Attributes: <span>(0)</span></label><div class='xr-section-inline-details'></div><div class='xr-section-details'><dl class='xr-attrs'></dl></div></li></ul></div></div>"
      ],
      "text/plain": [
       "<xarray.DataArray 'i' (i: 24)>\n",
       "array(['Barber service (and material relating to it)', 'Bengalgram Dhal',\n",
       "       'Brinjal', 'Ceremonial expenses', 'Chillies', 'Clothing',\n",
       "       'Greengram (Mung)', 'Grinding/milling charges', 'Gur (Jaggery)',\n",
       "       'Jowar/Sorghum', 'Milk', 'Onion', 'Other Dhal', 'Other Spices',\n",
       "       'Pan, Betel, etc.', 'Redgram Dhal', 'Rice', 'Sugar', 'Tea', 'Tomato',\n",
       "       'Wheat', 'Other vegetables', 'Other spices', 'Gur (jaggery)'],\n",
       "      dtype=object)\n",
       "Coordinates:\n",
       "  * i        (i) object 'Barber service (and material relating to it)' ... 'G..."
      ]
     },
     "execution_count": 11,
     "metadata": {},
     "output_type": "execute_result"
    }
   ],
   "source": [
    "r.coords['i']"
   ]
  },
  {
   "cell_type": "code",
   "execution_count": 2,
   "metadata": {},
   "outputs": [
    {
     "data": {
      "text/plain": [
       "k\n",
       "C 0-0.5    0.261411\n",
       "C 0.5-1    0.099585\n",
       "C 1-3      0.348548\n",
       "C 4-6      0.539419\n",
       "C 7-9      0.493776\n",
       "B 10-12    0.261411\n",
       "B 13-15    0.186722\n",
       "B 16-17    0.145228\n",
       "G 10-12    0.228216\n",
       "G 13-15    0.161826\n",
       "G 16-17    0.078838\n",
       "M          1.634855\n",
       "W          1.526971\n",
       "Name: z, dtype: float64"
      ]
     },
     "execution_count": 2,
     "metadata": {},
     "output_type": "execute_result"
    }
   ],
   "source": [
    "# In first round, averaged over households and villages\n",
    "\n",
    "zbar = r.z.sel(t=r.firstround,drop=True).mean(['j','m'])[:-1].squeeze() # Leave out log HSize\n",
    "\n",
    "zbar = zbar.to_dataframe().squeeze()\n",
    "zbar"
   ]
  },
  {
   "cell_type": "markdown",
   "metadata": {},
   "source": [
    "Now, the inner/dot/matrix product between `zbar` and the `rda`\n",
    "DataFrame of requirements will give us minimum requirements for the\n",
    "average household:\n",
    "\n"
   ]
  },
  {
   "cell_type": "code",
   "execution_count": 4,
   "metadata": {},
   "outputs": [
    {
     "data": {
      "text/plain": [
       "Calories         4.508901e+06\n",
       "Protein          9.665170e+04\n",
       "Fat              6.163199e+04\n",
       "Calcium          1.705504e+06\n",
       "Iron             3.887932e+04\n",
       "Betacarotene     9.404581e+06\n",
       "Thiamine         2.286929e+03\n",
       "Riboflavin       2.562876e+03\n",
       "Niacin           2.980581e+04\n",
       "Ascorbic Acid    8.513890e+04\n",
       "dtype: float64"
      ]
     },
     "execution_count": 4,
     "metadata": {},
     "output_type": "execute_result"
    }
   ],
   "source": [
    "rda = pd.read_pickle('indian_rda.df').T\n",
    "\n",
    "# May need to tweak types or alignment to match RDA and zbar types:\n",
    "rda0,zbar0=rda.align(zbar,axis=1)\n",
    "\n",
    "# This matrix product gives minimum nutrient requirements for average\n",
    "# household in 1975\n",
    "hh_rda = rda0.replace('',0)@zbar0\n",
    "\n",
    "# RDA is /daily/, but  demands in ICRISAT data are /annual/:\n",
    "hh_rda = hh_rda*365\n",
    "hh_rda"
   ]
  },
  {
   "cell_type": "markdown",
   "metadata": {},
   "source": [
    "## Nutritional Adequacy of Food Demands\n",
    "\n"
   ]
  },
  {
   "cell_type": "markdown",
   "metadata": {},
   "source": [
    "### Food Conversion Table\n",
    "\n"
   ]
  },
  {
   "cell_type": "markdown",
   "metadata": {},
   "source": [
    "As usual, we need data to convert foods to nutrients:\n",
    "\n"
   ]
  },
  {
   "cell_type": "code",
   "execution_count": 5,
   "metadata": {},
   "outputs": [
    {
     "name": "stdout",
     "output_type": "stream",
     "text": [
      "Key available for students@eep153.iam.gserviceaccount.com.\n",
      "Key available for instructors@eep153.iam.gserviceaccount.com.\n"
     ]
    }
   ],
   "source": [
    "from eep153_tools.sheets import read_sheets\n",
    "\n",
    "DataURL = 'https://docs.google.com/spreadsheets/d/13Ig5hZif-NSHtgkKRp_cEgKXk0lOsdUB2BAD6O_FnRo'\n",
    "key = DataURL.split('/')[-1]\n",
    "\n",
    "fct = read_sheets(key,sheet='FCT').set_index('i')\n"
   ]
  },
  {
   "cell_type": "code",
   "execution_count": 6,
   "metadata": {},
   "outputs": [
    {
     "data": {
      "text/html": [
       "<div>\n",
       "<style scoped>\n",
       "    .dataframe tbody tr th:only-of-type {\n",
       "        vertical-align: middle;\n",
       "    }\n",
       "\n",
       "    .dataframe tbody tr th {\n",
       "        vertical-align: top;\n",
       "    }\n",
       "\n",
       "    .dataframe thead th {\n",
       "        text-align: right;\n",
       "    }\n",
       "</style>\n",
       "<table border=\"1\" class=\"dataframe\">\n",
       "  <thead>\n",
       "    <tr style=\"text-align: right;\">\n",
       "      <th></th>\n",
       "      <th>Protein</th>\n",
       "      <th>Fat</th>\n",
       "      <th>Calories</th>\n",
       "      <th>Calcium</th>\n",
       "      <th>Iron</th>\n",
       "      <th>Betacarotene</th>\n",
       "      <th>Thiamine</th>\n",
       "      <th>Riboflavin</th>\n",
       "      <th>Niacin</th>\n",
       "      <th>Ascorbic Acid</th>\n",
       "    </tr>\n",
       "    <tr>\n",
       "      <th>i</th>\n",
       "      <th></th>\n",
       "      <th></th>\n",
       "      <th></th>\n",
       "      <th></th>\n",
       "      <th></th>\n",
       "      <th></th>\n",
       "      <th></th>\n",
       "      <th></th>\n",
       "      <th></th>\n",
       "      <th></th>\n",
       "    </tr>\n",
       "  </thead>\n",
       "  <tbody>\n",
       "    <tr>\n",
       "      <th>Rice</th>\n",
       "      <td>78.099998</td>\n",
       "      <td>5.500000</td>\n",
       "      <td>3513.423096</td>\n",
       "      <td>81.099998</td>\n",
       "      <td>7.200000</td>\n",
       "      <td>0.000000</td>\n",
       "      <td>1.700000</td>\n",
       "      <td>0.600000</td>\n",
       "      <td>25.100000</td>\n",
       "      <td>0.00000</td>\n",
       "    </tr>\n",
       "    <tr>\n",
       "      <th>Wheat</th>\n",
       "      <td>105.800003</td>\n",
       "      <td>15.000000</td>\n",
       "      <td>3208.894531</td>\n",
       "      <td>351.500000</td>\n",
       "      <td>40.349998</td>\n",
       "      <td>28.500000</td>\n",
       "      <td>4.400000</td>\n",
       "      <td>1.500000</td>\n",
       "      <td>25.250000</td>\n",
       "      <td>0.00000</td>\n",
       "    </tr>\n",
       "    <tr>\n",
       "      <th>Jowar/Sorghum</th>\n",
       "      <td>99.700005</td>\n",
       "      <td>17.299999</td>\n",
       "      <td>3339.065430</td>\n",
       "      <td>276.000000</td>\n",
       "      <td>39.500000</td>\n",
       "      <td>82.900002</td>\n",
       "      <td>3.500000</td>\n",
       "      <td>1.400000</td>\n",
       "      <td>21.000000</td>\n",
       "      <td>0.00000</td>\n",
       "    </tr>\n",
       "    <tr>\n",
       "      <th>Bajra/Pearl Millet</th>\n",
       "      <td>102.699997</td>\n",
       "      <td>51.399998</td>\n",
       "      <td>2987.166016</td>\n",
       "      <td>258.933319</td>\n",
       "      <td>60.766663</td>\n",
       "      <td>267.266663</td>\n",
       "      <td>2.366667</td>\n",
       "      <td>1.900000</td>\n",
       "      <td>8.133333</td>\n",
       "      <td>0.00000</td>\n",
       "    </tr>\n",
       "    <tr>\n",
       "      <th>Maize</th>\n",
       "      <td>88.000000</td>\n",
       "      <td>37.700001</td>\n",
       "      <td>3339.065430</td>\n",
       "      <td>89.099998</td>\n",
       "      <td>24.900000</td>\n",
       "      <td>1860.000000</td>\n",
       "      <td>3.300000</td>\n",
       "      <td>0.900000</td>\n",
       "      <td>26.900002</td>\n",
       "      <td>0.00000</td>\n",
       "    </tr>\n",
       "    <tr>\n",
       "      <th>...</th>\n",
       "      <td>...</td>\n",
       "      <td>...</td>\n",
       "      <td>...</td>\n",
       "      <td>...</td>\n",
       "      <td>...</td>\n",
       "      <td>...</td>\n",
       "      <td>...</td>\n",
       "      <td>...</td>\n",
       "      <td>...</td>\n",
       "      <td>...</td>\n",
       "    </tr>\n",
       "    <tr>\n",
       "      <th>Coffee</th>\n",
       "      <td>0.000000</td>\n",
       "      <td>0.000000</td>\n",
       "      <td>0.000000</td>\n",
       "      <td>0.000000</td>\n",
       "      <td>0.000000</td>\n",
       "      <td>0.000000</td>\n",
       "      <td>0.000000</td>\n",
       "      <td>0.000000</td>\n",
       "      <td>0.000000</td>\n",
       "      <td>0.00000</td>\n",
       "    </tr>\n",
       "    <tr>\n",
       "      <th>Meals</th>\n",
       "      <td>10.000000</td>\n",
       "      <td>1.670000</td>\n",
       "      <td>333.000000</td>\n",
       "      <td>0.000000</td>\n",
       "      <td>2.400000</td>\n",
       "      <td>0.000000</td>\n",
       "      <td>0.000000</td>\n",
       "      <td>0.000000</td>\n",
       "      <td>0.000000</td>\n",
       "      <td>0.00000</td>\n",
       "    </tr>\n",
       "    <tr>\n",
       "      <th>Complete Meals In Hotel</th>\n",
       "      <td>10.000000</td>\n",
       "      <td>1.670000</td>\n",
       "      <td>333.000000</td>\n",
       "      <td>0.000000</td>\n",
       "      <td>2.400000</td>\n",
       "      <td>0.000000</td>\n",
       "      <td>0.000000</td>\n",
       "      <td>0.000000</td>\n",
       "      <td>0.000000</td>\n",
       "      <td>0.00000</td>\n",
       "    </tr>\n",
       "    <tr>\n",
       "      <th>Various Processed Foods</th>\n",
       "      <td>4.658750</td>\n",
       "      <td>4.695000</td>\n",
       "      <td>196.287491</td>\n",
       "      <td>87.200836</td>\n",
       "      <td>4.284584</td>\n",
       "      <td>672.981384</td>\n",
       "      <td>0.060208</td>\n",
       "      <td>0.084042</td>\n",
       "      <td>0.645500</td>\n",
       "      <td>3.02125</td>\n",
       "    </tr>\n",
       "    <tr>\n",
       "      <th>Pan, Betel, Etc.</th>\n",
       "      <td>0.000000</td>\n",
       "      <td>0.000000</td>\n",
       "      <td>0.000000</td>\n",
       "      <td>0.000000</td>\n",
       "      <td>0.000000</td>\n",
       "      <td>0.000000</td>\n",
       "      <td>0.000000</td>\n",
       "      <td>0.000000</td>\n",
       "      <td>0.000000</td>\n",
       "      <td>0.00000</td>\n",
       "    </tr>\n",
       "  </tbody>\n",
       "</table>\n",
       "<p>66 rows × 10 columns</p>\n",
       "</div>"
      ],
      "text/plain": [
       "                            Protein        Fat     Calories     Calcium  \\\n",
       "i                                                                         \n",
       "Rice                      78.099998   5.500000  3513.423096   81.099998   \n",
       "Wheat                    105.800003  15.000000  3208.894531  351.500000   \n",
       "Jowar/Sorghum             99.700005  17.299999  3339.065430  276.000000   \n",
       "Bajra/Pearl Millet       102.699997  51.399998  2987.166016  258.933319   \n",
       "Maize                     88.000000  37.700001  3339.065430   89.099998   \n",
       "...                             ...        ...          ...         ...   \n",
       "Coffee                     0.000000   0.000000     0.000000    0.000000   \n",
       "Meals                     10.000000   1.670000   333.000000    0.000000   \n",
       "Complete Meals In Hotel   10.000000   1.670000   333.000000    0.000000   \n",
       "Various Processed Foods    4.658750   4.695000   196.287491   87.200836   \n",
       "Pan, Betel, Etc.           0.000000   0.000000     0.000000    0.000000   \n",
       "\n",
       "                              Iron  Betacarotene  Thiamine  Riboflavin  \\\n",
       "i                                                                        \n",
       "Rice                      7.200000      0.000000  1.700000    0.600000   \n",
       "Wheat                    40.349998     28.500000  4.400000    1.500000   \n",
       "Jowar/Sorghum            39.500000     82.900002  3.500000    1.400000   \n",
       "Bajra/Pearl Millet       60.766663    267.266663  2.366667    1.900000   \n",
       "Maize                    24.900000   1860.000000  3.300000    0.900000   \n",
       "...                            ...           ...       ...         ...   \n",
       "Coffee                    0.000000      0.000000  0.000000    0.000000   \n",
       "Meals                     2.400000      0.000000  0.000000    0.000000   \n",
       "Complete Meals In Hotel   2.400000      0.000000  0.000000    0.000000   \n",
       "Various Processed Foods   4.284584    672.981384  0.060208    0.084042   \n",
       "Pan, Betel, Etc.          0.000000      0.000000  0.000000    0.000000   \n",
       "\n",
       "                            Niacin  Ascorbic Acid  \n",
       "i                                                  \n",
       "Rice                     25.100000        0.00000  \n",
       "Wheat                    25.250000        0.00000  \n",
       "Jowar/Sorghum            21.000000        0.00000  \n",
       "Bajra/Pearl Millet        8.133333        0.00000  \n",
       "Maize                    26.900002        0.00000  \n",
       "...                            ...            ...  \n",
       "Coffee                    0.000000        0.00000  \n",
       "Meals                     0.000000        0.00000  \n",
       "Complete Meals In Hotel   0.000000        0.00000  \n",
       "Various Processed Foods   0.645500        3.02125  \n",
       "Pan, Betel, Etc.          0.000000        0.00000  \n",
       "\n",
       "[66 rows x 10 columns]"
      ]
     },
     "execution_count": 6,
     "metadata": {},
     "output_type": "execute_result"
    }
   ],
   "source": [
    "fct"
   ]
  },
  {
   "cell_type": "markdown",
   "metadata": {},
   "source": [
    "### Prices\n",
    "\n"
   ]
  },
  {
   "cell_type": "code",
   "execution_count": 7,
   "metadata": {},
   "outputs": [],
   "source": [
    "def my_prices(p0,p=p,i='Coconut'):\n",
    "    p = p.copy()\n",
    "    p.loc[i] = p0\n",
    "    return p"
   ]
  },
  {
   "cell_type": "markdown",
   "metadata": {},
   "source": [
    "### Nutrient Demand\n",
    "\n"
   ]
  },
  {
   "cell_type": "markdown",
   "metadata": {},
   "source": [
    "We can also use our demand functions to\n",
    " compute nutrition as a *function* of prices and budget.\n",
    "\n"
   ]
  },
  {
   "cell_type": "code",
   "execution_count": 8,
   "metadata": {},
   "outputs": [],
   "source": [
    "import warnings \n",
    "\n",
    "def nutrient_demand(x,p):\n",
    "    with warnings.catch_warnings():\n",
    "        warnings.simplefilter(\"ignore\")\n",
    "        c = r.demands(x,p)\n",
    "\n",
    "    fct0,c0 = fct.align(c,axis=0,join='inner')\n",
    "    N = fct0.T@c0\n",
    "\n",
    "    N = N.loc[~N.index.duplicated()]\n",
    "    \n",
    "    return N"
   ]
  },
  {
   "cell_type": "markdown",
   "metadata": {},
   "source": [
    "With this `nutrient_demand` function in hand, we can see how nutrient\n",
    " outcomes vary with budget, given prices:\n",
    "\n"
   ]
  },
  {
   "cell_type": "code",
   "execution_count": 9,
   "metadata": {},
   "outputs": [
    {
     "data": {
      "text/plain": [
       "Text(0, 0.5, 'log nutrient')"
      ]
     },
     "execution_count": 9,
     "metadata": {},
     "output_type": "execute_result"
    },
    {
     "data": {
      "image/png": "[encoded data removed]",
      "text/plain": [
       "<Figure size 432x288 with 1 Axes>"
      ]
     },
     "metadata": {
      "needs_background": "light"
     },
     "output_type": "display_data"
    }
   ],
   "source": [
    "import numpy as np\n",
    "import matplotlib.pyplot as plt\n",
    "\n",
    "X = np.linspace(reference_x/5,reference_x*5,50)\n",
    "\n",
    "UseNutrients = ['Protein','Calories','Iron','Calcium']\n",
    "\n",
    "df = pd.concat({myx:np.log(nutrient_demand(myx,p))[UseNutrients] for myx in X},axis=1).T\n",
    "ax = df.plot()\n",
    "\n",
    "ax.set_xlabel('log budget')\n",
    "ax.set_ylabel('log nutrient')"
   ]
  },
  {
   "cell_type": "markdown",
   "metadata": {},
   "source": [
    "Now how does nutrition vary with prices?\n",
    "\n"
   ]
  },
  {
   "cell_type": "code",
   "execution_count": 12,
   "metadata": {},
   "outputs": [
    {
     "data": {
      "text/plain": [
       "Text(0, 0.5, 'log nutrient')"
      ]
     },
     "execution_count": 12,
     "metadata": {},
     "output_type": "execute_result"
    },
    {
     "data": {
      "image/png": "[encoded data removed]",
      "text/plain": [
       "<Figure size 432x288 with 1 Axes>"
      ]
     },
     "metadata": {
      "needs_background": "light"
     },
     "output_type": "display_data"
    }
   ],
   "source": [
    "USE_GOOD = 'Jowar/Sorghum'\n",
    "\n",
    "ref_price = r.prices.sel(i=USE_GOOD,t=t,m=m,drop=True)\n",
    "\n",
    "P = np.linspace(1,5,20).tolist()\n",
    "\n",
    "ndf = pd.DataFrame({p0:np.log(nutrient_demand(reference_x,my_prices(p0,i=USE_GOOD)))[UseNutrients] for p0 in P}).T\n",
    "\n",
    "ax = ndf.plot()\n",
    "\n",
    "ax.set_xlabel('log price')\n",
    "ax.set_ylabel('log nutrient')"
   ]
  },
  {
   "cell_type": "markdown",
   "metadata": {},
   "source": [
    "### Nutritional Adequacy\n",
    "\n"
   ]
  },
  {
   "cell_type": "markdown",
   "metadata": {},
   "source": [
    "Since we can trace out demands for nutrients as a function of $(x,p)$,\n",
    "and we&rsquo;ve computed minimum nutritional requirements for the average\n",
    "household, we can *normalize* nutritional intake to check the adequacy\n",
    "of diet.\n",
    "\n"
   ]
  },
  {
   "cell_type": "code",
   "execution_count": 13,
   "metadata": {},
   "outputs": [],
   "source": [
    "def nutrient_adequacy_ratio(x,p):\n",
    "    return nutrient_demand(x,p)/hh_rda"
   ]
  },
  {
   "cell_type": "markdown",
   "metadata": {},
   "source": [
    "In terms of normalized nutrients, any household with more than one\n",
    "unit of any given nutrient (or zero in logs) will be consuming a\n",
    "minimally adequate level of the nutrient; below this level there&rsquo;s\n",
    "clearly nutritional inadequacy.  For this reason the ratio of\n",
    "actual nutrients to required nutrients is termed the &ldquo;nutrient\n",
    "adequacy ratio,&rdquo; or NAR.\n",
    "\n"
   ]
  },
  {
   "cell_type": "code",
   "execution_count": 15,
   "metadata": {},
   "outputs": [
    {
     "data": {
      "text/plain": [
       "<matplotlib.lines.Line2D at 0x7963457f4b20>"
      ]
     },
     "execution_count": 15,
     "metadata": {},
     "output_type": "execute_result"
    },
    {
     "data": {
      "image/png": "[encoded data removed]",
      "text/plain": [
       "<Figure size 432x288 with 1 Axes>"
      ]
     },
     "metadata": {
      "needs_background": "light"
     },
     "output_type": "display_data"
    }
   ],
   "source": [
    "X = np.linspace(reference_x/5,reference_x*5,50)\n",
    "\n",
    "ndf = pd.concat({x:np.log(nutrient_adequacy_ratio(x,p))[UseNutrients] for x in X},axis=1).T\n",
    "\n",
    "ax = ndf.plot()\n",
    "\n",
    "ax.set_xlabel('budget')\n",
    "ax.set_ylabel('log nutrient adequacy ratio')\n",
    "ax.axhline(0)"
   ]
  },
  {
   "cell_type": "markdown",
   "metadata": {},
   "source": [
    "As before, we can also vary relative prices.  Here we trace out\n",
    "nutritional adequacy varying the price of a single good:\n",
    "\n"
   ]
  },
  {
   "cell_type": "code",
   "execution_count": 16,
   "metadata": {},
   "outputs": [
    {
     "data": {
      "text/plain": [
       "<matplotlib.lines.Line2D at 0x7963413133d0>"
      ]
     },
     "execution_count": 16,
     "metadata": {},
     "output_type": "execute_result"
    },
    {
     "data": {
      "image/png": "[encoded data removed]",
      "text/plain": [
       "<Figure size 432x288 with 1 Axes>"
      ]
     },
     "metadata": {
      "needs_background": "light"
     },
     "output_type": "display_data"
    }
   ],
   "source": [
    "poorer_x = reference_x/2\n",
    "\n",
    "Pscale = np.linspace(1,3,20).tolist()\n",
    "\n",
    "log_nar = {s0:np.log(nutrient_adequacy_ratio(reference_x,my_prices(s0,p,i=USE_GOOD)))[UseNutrients] for s0 in Pscale}\n",
    "\n",
    "log_nar = pd.DataFrame(log_nar).T\n",
    "\n",
    "ax = log_nar.plot(ylabel='log NAR',xlabel='Price')\n",
    "\n",
    "\n",
    "ax.axhline(0)\n",
    "ax.axvline(p[USE_GOOD])"
   ]
  }
 ],
 "metadata": {
  "kernelspec": {
   "display_name": "Python 3 (ipykernel)",
   "language": "python",
   "name": "python3"
  },
  "language_info": {
   "codemirror_mode": {
    "name": "ipython",
    "version": 3
   },
   "file_extension": ".py",
   "mimetype": "text/x-python",
   "name": "python",
   "nbconvert_exporter": "python",
   "pygments_lexer": "ipython3",
   "version": "3.8.8"
  },
  "org": null
 },
 "nbformat": 4,
 "nbformat_minor": 1
}

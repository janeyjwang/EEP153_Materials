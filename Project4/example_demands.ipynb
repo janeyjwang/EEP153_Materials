{
  "cells": [
    {
      "cell_type": "markdown",
      "metadata": {},
      "source": [
        "## Example Demands\n\n"
      ]
    },
    {
      "cell_type": "markdown",
      "metadata": {},
      "source": [
        "### Introduction\n\n"
      ]
    },
    {
      "cell_type": "markdown",
      "metadata": {},
      "source": [
        "In our last project we used data to estimate systems of food demand\nusing different datasets.  An output from that project was as set of\n`cfe.Regression` objects; these bundle together both data and the results\nfrom the demand system estimation, and can be used for prediction as\nwell.\n\nHere we&rsquo;ll explore some of the uses of the `cfe.Regression` class, using\nan instance created previously (as in Project 3).\n\nAfter having estimated a demand system using data from our favorite country, we can imagine different counterfactual scenarios.  What if prices were different?  What if we give a cash transfer to a household?  What if school fees reduce the budget for food?  What are the consequences of any of these for diet & nutrition?\n\nIf you don&rsquo;t already have the latest version of the `CFEDemands` package\ninstalled, grab it, along with some dependencies:\n\n"
      ]
    },
    {
      "cell_type": "code",
      "execution_count": 1,
      "metadata": {},
      "outputs": [],
      "source": [
        "!pip install -r requirements.txt"
      ]
    },
    {
      "cell_type": "code",
      "execution_count": 1,
      "metadata": {},
      "outputs": [],
      "source": [
        "import pandas as pd\nimport cfe.regression as rgsn"
      ]
    },
    {
      "cell_type": "markdown",
      "metadata": {},
      "source": [
        "### Data\n\n"
      ]
    },
    {
      "cell_type": "markdown",
      "metadata": {},
      "source": [
        "We&rsquo;ll get data from two places.  First, basic data, including a food\n conversion table and recommended daily intakes table can be found in\n a google spreadsheet.\n\nHere are addresses of google sheets for different dataframes for the\ncase of Uganda:\n\n"
      ]
    },
    {
      "cell_type": "code",
      "execution_count": 1,
      "metadata": {},
      "outputs": [],
      "source": [
        "InputFiles = {'Expenditures':('1yVLriVpo7KGUXvR3hq_n53XpXlD5NmLaH1oOMZyV0gQ','Expenditures (2019-20)'),\n              'Prices':('1yVLriVpo7KGUXvR3hq_n53XpXlD5NmLaH1oOMZyV0gQ','Prices'),\n              'HH Characteristics':('1yVLriVpo7KGUXvR3hq_n53XpXlD5NmLaH1oOMZyV0gQ','HH Characteristics'),\n              'FCT':('1yVLriVpo7KGUXvR3hq_n53XpXlD5NmLaH1oOMZyV0gQ','FCT'),\n              'RDI':('1yVLriVpo7KGUXvR3hq_n53XpXlD5NmLaH1oOMZyV0gQ','RDI'),}"
      ]
    },
    {
      "cell_type": "markdown",
      "metadata": {},
      "source": [
        "#### Prices, FCT, RDI\n\n"
      ]
    },
    {
      "cell_type": "code",
      "execution_count": 1,
      "metadata": {},
      "outputs": [],
      "source": [
        "from eep153_tools.sheets import read_sheets\nimport numpy as np\nimport pandas as pd\n\ndef get_clean_sheet(key,sheet=None):\n\n    df = read_sheets(key,sheet=sheet)\n    df.columns = [c.strip() for c in df.columns.tolist()]\n\n    df = df.loc[:,~df.columns.duplicated(keep='first')]\n\n    df = df.drop([col for col in df.columns if col.startswith('Unnamed')], axis=1)\n\n    df = df.loc[~df.index.duplicated(), :]\n\n    return df\n\n# Get prices\np = get_clean_sheet(InputFiles['Prices'][0],\n                    sheet=InputFiles['Prices'][1])\n\nif 'm' not in p.columns:  # Supply \"market\" indicator if missing\n    p['m'] = 1\n\np = p.set_index(['t','m'])\np.columns.name = 'j'\n\np = p.apply(lambda x: pd.to_numeric(x,errors='coerce'))\np = p.replace(0,np.nan)\n\nfct = get_clean_sheet(InputFiles['FCT'][0],\n                    sheet=InputFiles['FCT'][1])\n\nfct = fct.set_index('j')\nfct.columns.name = 'n'\n\nfct = fct.apply(lambda x: pd.to_numeric(x,errors='coerce'))\n\n################## RDI, if available (consider using US) #####################\nrdi = get_clean_sheet(InputFiles['RDI'][0],\n                    sheet=InputFiles['RDI'][1])\nrdi = rdi.set_index('n')\nrdi.columns.name = 'k'"
      ]
    },
    {
      "cell_type": "markdown",
      "metadata": {},
      "source": [
        "#### Pre-estimated Demand Systems\n\n"
      ]
    },
    {
      "cell_type": "markdown",
      "metadata": {},
      "source": [
        "An instance `r` of `cfe.Regression` can be made persistent with\n `r.to_pickle('my_result.pickle')`, which saves the instance &ldquo;on disk&rdquo;, and can be loaded using `cfe.regression.read_pickle`.  We use  this method below to load data and demand system previously estimated for Uganda:\n\n"
      ]
    },
    {
      "cell_type": "code",
      "execution_count": 1,
      "metadata": {},
      "outputs": [],
      "source": [
        "r = rgsn.read_pickle('uganda_2019-20.pickle')  # Assumes you've already set this up e.g., in Project 3"
      ]
    },
    {
      "cell_type": "markdown",
      "metadata": {},
      "source": [
        "#### Reference Prices\n\n"
      ]
    },
    {
      "cell_type": "markdown",
      "metadata": {},
      "source": [
        "Choose reference prices.  Here we&rsquo;ll choose a particular year, and average prices across markets.  If you wanted to focus on particular market you&rsquo;d do this differently.\n\n"
      ]
    },
    {
      "cell_type": "code",
      "execution_count": 1,
      "metadata": {},
      "outputs": [],
      "source": [
        "# Reference prices chosen from a particular time; average across place.\n# These are prices per kilogram:\npbar = p.xs('2019-20',level='t').mean()\npbar = pbar[r.beta.index] # Only use prices for goods we can estimate"
      ]
    },
    {
      "cell_type": "markdown",
      "metadata": {},
      "source": [
        "#### Budgets\n\n"
      ]
    },
    {
      "cell_type": "markdown",
      "metadata": {},
      "source": [
        "Get food budget for all households, then find median budget:\n\n"
      ]
    },
    {
      "cell_type": "code",
      "execution_count": 1,
      "metadata": {},
      "outputs": [],
      "source": [
        "import numpy as np\n\nxhat = r.predicted_expenditures()\n\n# Total food expenditures per household\nxbar = xhat.groupby(['i','t','m']).sum()\n\n# Reference budget\nxref = xbar.quantile(0.5)  # Household at 0.5 quantile is median"
      ]
    },
    {
      "cell_type": "markdown",
      "metadata": {},
      "source": [
        "#### Food Quantities\n\n"
      ]
    },
    {
      "cell_type": "markdown",
      "metadata": {},
      "source": [
        "Get quantities of food by dividing expenditures by prices:\n\n"
      ]
    },
    {
      "cell_type": "code",
      "execution_count": 1,
      "metadata": {},
      "outputs": [],
      "source": [
        "qhat = (xhat.unstack('j')/pbar).dropna(how='all')\n\n# Drop missing columns\nqhat = qhat.loc[:,qhat.count()>0]\n\nqhat"
      ]
    },
    {
      "cell_type": "markdown",
      "metadata": {},
      "source": [
        "Finally, define a function to change a single price in the vector $p$:\n\n"
      ]
    },
    {
      "cell_type": "code",
      "execution_count": 1,
      "metadata": {},
      "outputs": [],
      "source": [
        "def my_prices(p0,p=pbar,j='Millet'):\n    \"\"\"\n    Change price of jth good to p0, holding other prices fixed.\n    \"\"\"\n    p = p.copy()\n    p.loc[j] = p0\n    return p"
      ]
    },
    {
      "cell_type": "markdown",
      "metadata": {},
      "source": [
        "#### Demand functions\n\n"
      ]
    },
    {
      "cell_type": "code",
      "execution_count": 1,
      "metadata": {},
      "outputs": [],
      "source": [
        "import matplotlib.pyplot as plt\n%matplotlib notebook\n\nuse = 'Millet'  # Good we want demand curve for\n\n# Vary prices from 50% to 200% of reference.\nscale = np.linspace(.5,2,20)\n\n# Demand for Millet for household at median budget\nplt.plot([r.demands(xref,my_prices(pbar[use]*s,pbar))[use] for s in scale],scale)\n\n# Demand for Millet for household at 25% percentile\nplt.plot([r.demands(xbar.quantile(0.25),my_prices(pbar[use]*s,pbar))[use] for s in scale],scale)\n\n# Demand for Millet for household at 75% percentile\nplt.plot([r.demands(xbar.quantile(0.75),my_prices(pbar[use]*s,pbar))[use] for s in scale],scale)\n\nplt.ylabel(f\"Price (relative to base of {pbar[use]:.2f})\")\nplt.xlabel(f\"Quantities of {use} Demanded (Kgs)\")"
      ]
    },
    {
      "cell_type": "markdown",
      "metadata": {},
      "source": [
        "#### Engel Curves\n\n"
      ]
    },
    {
      "cell_type": "code",
      "execution_count": 1,
      "metadata": {},
      "outputs": [],
      "source": [
        "fig,ax = plt.subplots()\n\nscale = np.geomspace(0.01,100,100)\nax.plot(np.log(scale),[(r.expenditures(s*xref,pbar)/(s*xref))[use] for s in scale])\nax.set_xlabel(f'log budget (relative to base of {xref:.0f})')\nax.set_ylabel(f'Expenditure share')\nax.set_title('Engel Curves')"
      ]
    }
  ],
  "metadata": {
    "org": null,
    "kernelspec": {
      "display_name": "Python 3",
      "language": "python",
      "name": "python3"
    },
    "language_info": {
      "codemirror_mode": {
        "name": "ipython",
        "version": 3
      },
      "file_extension": ".py",
      "mimetype": "text/x-python",
      "name": "python",
      "nbconvert_exporter": "python",
      "pygments_lexer": "ipython3",
      "version": "3.5.2"
    }
  },
  "nbformat": 4,
  "nbformat_minor": 0
}

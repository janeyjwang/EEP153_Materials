{
 "cells": [
  {
   "cell_type": "markdown",
   "metadata": {},
   "source": [
    "## Costs\n",
    "\n"
   ]
  },
  {
   "cell_type": "markdown",
   "metadata": {},
   "source": [
    "### Preface\n",
    "\n"
   ]
  },
  {
   "cell_type": "markdown",
   "metadata": {},
   "source": [
    "There are a few modules you may need to install:\n",
    "\n"
   ]
  },
  {
   "cell_type": "code",
   "execution_count": 1,
   "metadata": {},
   "outputs": [],
   "source": [
    "#!pip install -r requirements.txt"
   ]
  },
  {
   "cell_type": "markdown",
   "metadata": {},
   "source": [
    "Some countries we have data for:\n",
    "\n"
   ]
  },
  {
   "cell_type": "code",
   "execution_count": 1,
   "metadata": {},
   "outputs": [],
   "source": [
    "URL = {'Uganda':'https://docs.google.com/spreadsheets/d/1yVLriVpo7KGUXvR3hq_n53XpXlD5NmLaH1oOMZyV0gQ/',\n",
    "       'Tanzania':'https://docs.google.com/spreadsheets/d/1Tknc2F8K6SaA7j0R7J_NE8yJBTsCPPw77_Bfc04MY40/',\n",
    "       'Indian ICRISAT':'https://docs.google.com/spreadsheets/d/13Ig5hZif-NSHtgkKRp_cEgKXk0lOsdUB2BAD6O_FnRo'}\n",
    "\n",
    "DAYS_PER_PERIOD = {'Uganda':7,'Tanzania':7,'Indian ICRISAT':365.25} # Number of days of expenditure recall"
   ]
  },
  {
   "cell_type": "markdown",
   "metadata": {},
   "source": [
    "Exploit fact that we&rsquo;ve already estimated demand systems for a bunch\n",
    "of different countries.  Choose one:\n",
    "\n"
   ]
  },
  {
   "cell_type": "code",
   "execution_count": 1,
   "metadata": {},
   "outputs": [],
   "source": [
    "import cfe\n",
    "\n",
    "COUNTRY = 'Uganda'\n",
    "\n",
    "# May need to unzip?\n",
    "#!gunzip Uganda_small.ds.gz\n",
    "\n",
    "r = cfe.from_dataset(\"%s_small.ds\" % COUNTRY,engine='netcdf4')"
   ]
  },
  {
   "cell_type": "markdown",
   "metadata": {},
   "source": [
    "### Ceteris Paribus\n",
    "\n"
   ]
  },
  {
   "cell_type": "markdown",
   "metadata": {},
   "source": [
    "We begin by setting up some benchmarks for prices and budgets, so\n",
    "    the things we don&rsquo;t want to change we can hold fixed.\n",
    "\n"
   ]
  },
  {
   "cell_type": "code",
   "execution_count": 1,
   "metadata": {},
   "outputs": [],
   "source": [
    "import numpy as np\n",
    "\n",
    "### First year, first market, and some good.  Change if you wish! ###\n",
    "my_t = r.coords['t'].data.flatten()[0] # Period\n",
    "my_m = r.coords['m'].data.flatten()[0] # Market\n",
    "my_i = 'bread' # r.coords['i'].data.flatten()[0] # Good\n",
    "#####################################################################\n",
    "\n",
    "p = r.prices.sel(u='Kilogram (kg)',t=my_t,m=my_m,drop=True)\n",
    "phat = p.to_dataframe('i').dropna().squeeze()\n",
    "\n",
    "ref_price = r.prices.sel(u='Kilogram (kg)',i=my_i,t=my_t,m=my_m)\n",
    "P = np.linspace(ref_price/10,ref_price*5,50)\n",
    "\n",
    "def my_prices(p0,p=phat,i=my_i):\n",
    "    \"\"\"\n",
    "    Set price of good i to p0, holding remaining prices fixed at values in p.\n",
    "    \"\"\"\n",
    "    p = p.copy()\n",
    "    p.loc[i] = p0\n",
    "    return p.squeeze()\n",
    "\n",
    "phat"
   ]
  },
  {
   "cell_type": "markdown",
   "metadata": {},
   "source": [
    "### Simple Policy Experiments: Changing Budget\n",
    "\n"
   ]
  },
  {
   "cell_type": "markdown",
   "metadata": {},
   "source": [
    "Consider two policies:  First, changing income so that some proportion\n",
    " of the population achieves nutritional adequacy.  Here choose quantile\n",
    " we&rsquo;re interested in (e.g., a quantile of 0.5 is the median; a quantile\n",
    " of 0.25 is the household at the 25th percentage point of the distribution).\n",
    "\n"
   ]
  },
  {
   "cell_type": "code",
   "execution_count": 1,
   "metadata": {},
   "outputs": [],
   "source": [
    "# A quantile of 0.5 is the median.  Play with quantile value, or just assign.\n",
    "xbar = r.get_predicted_expenditures().sel(t=my_t,m=my_m).sum('i')\n",
    "\n",
    "# Drop households with /no/ predicted expenditures\n",
    "xbar = xbar.where(xbar>0)\n",
    "\n",
    "x0 = xbar.quantile(0.5,'j') # Budget (median household)\n",
    "#x0 = 50\n",
    "\n",
    "# Range of budgets to explore\n",
    "X = np.linspace(x0/10,x0*5,50)"
   ]
  },
  {
   "cell_type": "markdown",
   "metadata": {},
   "source": [
    "### Simple Policy Experiments: Changing Prices\n",
    "\n"
   ]
  },
  {
   "cell_type": "markdown",
   "metadata": {},
   "source": [
    "If price of a good increases/decreases, what&rsquo;s the cost to the\n",
    "household?  Ask a related question: If a price $p_1$ increases, how\n",
    "much *income* do we need to give to the household to make it just as\n",
    "well off as it was at the old prices?\n",
    "\n",
    "Summarize this as the  *compensating variation* associated with the\n",
    "price change.\n",
    "\n",
    "![img](./compensating_variation.png)\n",
    "\n",
    "Compensating Variation can also be measured as the (change in the)\n",
    "area under the **Hicksian** (or **compensated**) demand curve:\n",
    "\n",
    "![img](./compensating_variation_newexpenditure.png).\n",
    "\n"
   ]
  },
  {
   "cell_type": "markdown",
   "metadata": {},
   "source": [
    "#### Marshallian vs. Hicksian Demand Curves\n",
    "\n"
   ]
  },
  {
   "cell_type": "markdown",
   "metadata": {},
   "source": [
    "Let&rsquo;s look at Marshallian & Hicksian demands&#x2014;one way of thinking\n",
    "about the Hicksian (compensated) curves is that they  eliminate the\n",
    "income effect associated with changing prices.\n",
    "\n"
   ]
  },
  {
   "cell_type": "code",
   "execution_count": 149,
   "metadata": {},
   "outputs": [
    {
     "data": {
      "text/plain": [
       "<matplotlib.legend.Legend at 0x7b337b8e6c10>"
      ]
     },
     "execution_count": 149,
     "metadata": {},
     "output_type": "execute_result"
    },
    {
     "data": {
      "image/png": "[encoded data removed]",
      "text/plain": [
       "<Figure size 432x288 with 1 Axes>"
      ]
     },
     "metadata": {
      "needs_background": "light"
     },
     "output_type": "display_data"
    }
   ],
   "source": [
    "import matplotlib.pyplot as plt\n",
    "\n",
    "#my_i = 'bread'  # Interesting Ugandan staple\n",
    "\n",
    "U0 = r.indirect_utility(x0,p)\n",
    "\n",
    "plt.plot([r.demands(x0,my_prices(p0,i=my_i))[my_i] for p0 in P],P)\n",
    "plt.plot([r.demands(U0,my_prices(p0,i=my_i),type=\"Hicksian\")[my_i] for p0 in P],P)\n",
    "plt.ylabel('Price')\n",
    "plt.xlabel(my_i)\n",
    "#plt.axhline(p.sel(i=my_i).values)\n",
    "plt.legend((\"Marshallian\",\"Hicksian\"))"
   ]
  },
  {
   "cell_type": "markdown",
   "metadata": {},
   "source": [
    "#### Welfare measures\n",
    "\n"
   ]
  },
  {
   "cell_type": "code",
   "execution_count": 150,
   "metadata": {},
   "outputs": [],
   "source": [
    "def compensating_variation(U0,p0,p1):\n",
    "    x0 = r.expenditure(U0,p0)\n",
    "    x1 = r.expenditure(U0,p1)\n",
    "\n",
    "    return x1-x0\n",
    "\n",
    "def revenue(U0,p0,p1,type='Marshallian'):\n",
    "    \"\"\"(Un)Compensated revenue from taxes changing vector of prices from p0 to p1.\n",
    "\n",
    "    Note that this is only for *demand* side (i.e., if supply perfectly elastic).\n",
    "    \"\"\"\n",
    "    \n",
    "    dp = p1 - p0 # Change in prices\n",
    "\n",
    "    c = r.demands(U0,p1,type=type)\n",
    "\n",
    "    dp,c = dp.align(c,join='inner')\n",
    "\n",
    "    return dp.T@c\n",
    "\n",
    "\n",
    "def deadweight_loss(U0,p0,p1):\n",
    "    \"\"\"\n",
    "    Deadweight loss of tax/subsidy scheme creating wedge in prices from p0 to p1.\n",
    "\n",
    "    Note that this is only for *demand* side (i.e., if supply perfectly elastic).\n",
    "    \"\"\"\n",
    "    cv = compensating_variation(U0,p0,p1)\n",
    "\n",
    "    return cv - revenue(U0,p0,p1,type='Hicksian') \n",
    "    \n",
    "    \n",
    "def compensated_nutrient_demand(U,p,z=None):\n",
    "    c = r.demands(U,p,z=z,type='Hicksian')\n",
    "    fct0,c0 = fct.align(c,axis=0,join='inner')\n",
    "    N = fct0.T@c0\n",
    "\n",
    "    return N\n",
    "\n",
    "def compensated_nutrient_adequacy_ratio(U,p):\n",
    "    return (compensated_nutrient_demand(U,p)/hh_rdi.T).squeeze()"
   ]
  },
  {
   "cell_type": "markdown",
   "metadata": {},
   "source": [
    "#### Price Changes, Revenue, and Compensating Variation\n",
    "\n"
   ]
  },
  {
   "cell_type": "markdown",
   "metadata": {},
   "source": [
    "Examine effects of price changes on revenue (if price change due to a\n",
    "tax or subsidy) and compensating variation.\n",
    "\n"
   ]
  },
  {
   "cell_type": "code",
   "execution_count": 151,
   "metadata": {},
   "outputs": [
    {
     "data": {
      "text/plain": [
       "<matplotlib.lines.Line2D at 0x7b337881d580>"
      ]
     },
     "execution_count": 151,
     "metadata": {},
     "output_type": "execute_result"
    },
    {
     "data": {
      "image/png": "[encoded data removed]",
      "text/plain": [
       "<Figure size 432x288 with 1 Axes>"
      ]
     },
     "metadata": {
      "needs_background": "light"
     },
     "output_type": "display_data"
    }
   ],
   "source": [
    "fig, ax1 = plt.subplots()\n",
    "\n",
    "ax1.plot(P,[compensating_variation(U0,phat,my_prices(p0,i=my_i)) for p0 in P])\n",
    "ax1.set_xlabel(\"Price of %s\" % my_i)\n",
    "ax1.set_ylabel(\"Compensating Variation\")\n",
    "\n",
    "ax1.plot(P,[revenue(U0,phat,my_prices(p0,i=my_i),type='Hicksian') for p0 in P],'k')\n",
    "ax1.legend(('Compensating Variation','Revenue'))\n",
    "ax1.axhline(0)\n",
    "ax1.axvline(phat.loc[my_i])"
   ]
  },
  {
   "cell_type": "markdown",
   "metadata": {},
   "source": [
    "#### Deadweight Loss\n",
    "\n"
   ]
  },
  {
   "cell_type": "markdown",
   "metadata": {},
   "source": [
    "Differences between revenue and compensating variation is deadweight-loss:\n",
    "\n"
   ]
  },
  {
   "cell_type": "code",
   "execution_count": 152,
   "metadata": {},
   "outputs": [
    {
     "data": {
      "text/plain": [
       "Text(0, 0.5, 'Deadweight Loss')"
      ]
     },
     "execution_count": 152,
     "metadata": {},
     "output_type": "execute_result"
    },
    {
     "data": {
      "image/png": "[encoded data removed]",
      "text/plain": [
       "<Figure size 432x288 with 1 Axes>"
      ]
     },
     "metadata": {
      "needs_background": "light"
     },
     "output_type": "display_data"
    }
   ],
   "source": [
    "fig, ax1 = plt.subplots()\n",
    "\n",
    "ax1.plot(P,[deadweight_loss(U0,phat,my_prices(p0,i=my_i)) for p0 in P])\n",
    "ax1.set_xlabel(\"Price of %s\" % my_i)\n",
    "ax1.set_ylabel(\"Deadweight Loss\")"
   ]
  }
 ],
 "metadata": {
  "kernelspec": {
   "display_name": "Python 3 (ipykernel)",
   "language": "python",
   "name": "python3"
  },
  "language_info": {
   "codemirror_mode": {
    "name": "ipython",
    "version": 3
   },
   "file_extension": ".py",
   "mimetype": "text/x-python",
   "name": "python",
   "nbconvert_exporter": "python",
   "pygments_lexer": "ipython3",
   "version": "3.8.8"
  },
  "org": null
 },
 "nbformat": 4,
 "nbformat_minor": 1
}
